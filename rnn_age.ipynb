{
 "cells": [
  {
   "cell_type": "code",
   "execution_count": 1,
   "id": "945431b6-3f7e-48a0-8df2-512825b639c2",
   "metadata": {
    "tags": []
   },
   "outputs": [],
   "source": [
    "import os\n",
    "import gc\n",
    "import warnings\n",
    "os.environ['OPENBLAS_NUM_THREADS'] = '1'\n",
    "warnings.filterwarnings('ignore')\n",
    "import pandas as pd\n",
    "import numpy as np\n",
    "# import bisect\n",
    "import pickle\n",
    "import torch\n",
    "from trx_encoder import TrxEncoder\n",
    "from ptls.nn import LongformerEncoder, TransformerSeqEncoder, LongformerSeqEncoder, TabFormerFeatureEncoder, TransformerEncoder, RnnSeqEncoder, PBLinear, PBL2Norm, PBLayerNorm, Head\n",
    "from ptls.frames.bert import MLMPretrainModule\n",
    "from ptls.frames.tabformer.tabformer_module import TabformerPretrainModule\n",
    "from ptls.data_load.datasets import MemoryMapDataset\n",
    "from ptls.data_load.iterable_processing import SeqLenFilter, FeatureFilter\n",
    "from ptls.frames.supervised import SeqToTargetDataset, SequenceToTarget\n",
    "from ptls.frames import PtlsDataModule\n",
    "import torchmetrics\n",
    "from functools import partial\n",
    "from pytorch_lightning.callbacks import ModelCheckpoint\n",
    "from pytorch_lightning import Trainer, seed_everything\n",
    "import pytorch_lightning as pl\n",
    "import logging\n",
    "from longformer import MLMCPCPretrainModule\n",
    "from ptls.nn import PBLinear, PBL2Norm, PBLayerNorm, PBDropout\n",
    "from ptls.frames.supervised.seq_to_target_dataset import SeqToTargetIterableDataset\n",
    "from ptls.data_load.datasets import inference_data_loader\n",
    "from sklearn.model_selection import StratifiedKFold\n",
    "from sklearn.metrics import roc_auc_score\n",
    "import math"
   ]
  },
  {
   "cell_type": "code",
   "execution_count": 2,
   "id": "5a48ae21-c95a-44be-a0c9-cfefb79bfe5e",
   "metadata": {
    "tags": []
   },
   "outputs": [],
   "source": [
    "# !pip install git+https://github.com/livington/pytorch-lifestream.git@main"
   ]
  },
  {
   "cell_type": "code",
   "execution_count": 3,
   "id": "2b2b6dbb-f484-4599-9083-ca386251e1a9",
   "metadata": {
    "tags": []
   },
   "outputs": [],
   "source": [
    "from ptls.data_load.iterable_processing_dataset import IterableProcessingDataset\n",
    "from ptls.data_load.augmentations.seq_len_limit import SeqLenLimit\n",
    "\n",
    "\n",
    "class ISeqLenLimit(IterableProcessingDataset):\n",
    "    def __init__(self, max_seq_len, strategy='tail'):\n",
    "        super().__init__()\n",
    "\n",
    "        self.proc = SeqLenLimit(max_seq_len, strategy)\n",
    "\n",
    "    def process(self, features):\n",
    "        return self.proc(features)"
   ]
  },
  {
   "cell_type": "code",
   "execution_count": 4,
   "id": "ac3e2044-1aed-4416-af05-210aa7d2eb23",
   "metadata": {
    "tags": []
   },
   "outputs": [],
   "source": [
    "def sigmoid(x):\n",
    "    return 1 / (1 + math.exp(-x))\n",
    "\n",
    "\n",
    "def get_dataset(data):\n",
    "    return SeqToTargetDataset(\n",
    "        MemoryMapDataset(\n",
    "            data=data,\n",
    "            i_filters=[\n",
    "                FeatureFilter(keep_feature_names='target'),\n",
    "                ISeqLenLimit(1024) # 1024, 512, 256, 8\n",
    "            ],\n",
    "        ),\n",
    "        target_col_name='target',\n",
    "    )"
   ]
  },
  {
   "cell_type": "code",
   "execution_count": 5,
   "id": "79f3dd18-b396-4511-b22e-825d4ce6f09d",
   "metadata": {
    "tags": []
   },
   "outputs": [],
   "source": [
    "EMB_SIZE = 128\n",
    "PB_LINEAR = 32\n",
    "HIDDEN_SIZE = 64\n",
    "BATCH_SIZE = 32\n",
    "NUM_EPOCHS = 4\n",
    "LR = 0.01\n",
    "\n",
    "STEP_SIZE = 5\n",
    "GAMMA = 0.9\n",
    "N_SPLITS = 5\n",
    "WORD_SIZE = 300\n",
    "BIDIRECT = True\n",
    "RNN_TYPE = 'lstm' #possible: 'gru', 'lstm'\n",
    "USE_TEXTS = True\n",
    "\n",
    "DATA_PATH = 'data_nn_wt.pickle'\n",
    "TARGET_PATH = \"public_train.pqt\"\n",
    "PREPROCESSOR_PATH = 'preprocessor_nn.p'"
   ]
  },
  {
   "cell_type": "code",
   "execution_count": 6,
   "id": "4397209f-4951-42ff-bc48-ed4d6208af3f",
   "metadata": {
    "tags": []
   },
   "outputs": [],
   "source": [
    "target = target = pd.read_csv(\"tr.csv\", usecols=['user_id', 'age'])\n",
    "target['age'] = target['age'] + 1\n",
    "sb = pd.read_csv(\"sample_submission.csv\")"
   ]
  },
  {
   "cell_type": "code",
   "execution_count": 7,
   "id": "917a939c-0d8e-41eb-95a8-c29c1f93916a",
   "metadata": {
    "tags": []
   },
   "outputs": [
    {
     "name": "stdout",
     "output_type": "stream",
     "text": [
      "loading data...\n",
      "loading data complete\n",
      "CPU times: user 3min 10s, sys: 13.5 s, total: 3min 24s\n",
      "Wall time: 3min 24s\n"
     ]
    }
   ],
   "source": [
    "%%time\n",
    "print(\"loading data...\")\n",
    "with open(DATA_PATH, 'rb') as handle:\n",
    "    data = pickle.load(handle)#[:1000]\n",
    "with open('words_embs.npy', 'rb') as f:\n",
    "    embs = np.load(f)\n",
    "print(\"loading data complete\")"
   ]
  },
  {
   "cell_type": "code",
   "execution_count": 8,
   "id": "542a7030-50eb-42ae-8647-f5b8c6d1fffb",
   "metadata": {
    "tags": []
   },
   "outputs": [
    {
     "name": "stdout",
     "output_type": "stream",
     "text": [
      "263065\n"
     ]
    }
   ],
   "source": [
    "import pickle\n",
    "with open('cold_users.pickle', 'rb') as handle:\n",
    "    cold_users = pickle.load(handle)\n",
    "    \n",
    "target = target[~target.user_id.isin(cold_users)]\n",
    "print(len(target))"
   ]
  },
  {
   "cell_type": "code",
   "execution_count": 9,
   "id": "10c84e1b-e8ce-4c43-9e2e-1f574286703f",
   "metadata": {
    "tags": []
   },
   "outputs": [
    {
     "data": {
      "text/plain": [
       "1925"
      ]
     },
     "execution_count": 9,
     "metadata": {},
     "output_type": "execute_result"
    }
   ],
   "source": [
    "train_user_ids = target[\"user_id\"].unique()\n",
    "test_user_ids = sb[\"user_id\"].unique()\n",
    "\n",
    "dataset_train_all = [e for e in data if e[\"user_id\"] in train_user_ids]#[:100]\n",
    "dataset_test = [e for e in data if e[\"user_id\"] in test_user_ids]#[:10]\n",
    "dataset_test = sorted(dataset_test, key=lambda x: x['user_id'])\n",
    "\n",
    "df_target = target\n",
    "df_target.set_index('user_id', inplace=True)\n",
    "df_target.rename(columns={\"age\": \"target\"}, inplace=True)\n",
    "for el in dataset_train_all:\n",
    "    el['target'] = int(df_target['target'][el['user_id']])\n",
    "    \n",
    "del data\n",
    "gc.collect()"
   ]
  },
  {
   "cell_type": "code",
   "execution_count": 10,
   "id": "d30af350-5dc0-4e09-9299-bb7d9a83f857",
   "metadata": {
    "tags": []
   },
   "outputs": [],
   "source": [
    "numeric_values={}\n",
    "numeric_values['price'] = 'log'\n",
    "trx_encoder_params = dict(\n",
    "    # embeddings_noise=0.005,\n",
    "    numeric_values=numeric_values,\n",
    "    embeddings={\n",
    "        'region_name': {'in': 1000, 'out': 2},\n",
    "        'city_name': {'in': 10000, 'out': 3},\n",
    "        'cpe_manufacturer_name': {'in': 1000, 'out': 2},\n",
    "        'cpe_model_name': {'in': 1000, 'out': 2},\n",
    "        'url_host': {'in': 200000, 'out': EMB_SIZE},\n",
    "        'cpe_type_cd': {'in': 10, 'out': 2},\n",
    "        'cpe_model_os_type': {'in': 100, 'out': 2},\n",
    "        'part_of_day': {'in': 10, 'out': 2},\n",
    "        'urls_topics': {'in': 300, 'out': 8},\n",
    "        'request_cnt': {'in': 100, 'out': 1},\n",
    "    },\n",
    ")\n",
    "if USE_TEXTS:\n",
    "    trx_encoder_params[\"text_value\"] = {\"in\": len(embs), \"out\": WORD_SIZE, \"weight\": embs, \"name\": \"text\"}\n",
    "trx_encoder = TrxEncoder(**trx_encoder_params)"
   ]
  },
  {
   "cell_type": "code",
   "execution_count": 11,
   "id": "85825a1c-78ba-4ba9-999a-45d2d08d9536",
   "metadata": {
    "tags": []
   },
   "outputs": [
    {
     "name": "stdout",
     "output_type": "stream",
     "text": [
      "Fold 1:\n"
     ]
    },
    {
     "name": "stderr",
     "output_type": "stream",
     "text": [
      "Global seed set to 42\n",
      "GPU available: True (cuda), used: True\n",
      "TPU available: False, using: 0 TPU cores\n",
      "IPU available: False, using: 0 IPUs\n",
      "HPU available: False, using: 0 HPUs\n",
      "You are using a CUDA device ('NVIDIA GeForce RTX 3090 Ti') that has Tensor Cores. To properly utilize them, you should set `torch.set_float32_matmul_precision('medium' | 'high')` which will trade-off precision for performance. For more details, read https://pytorch.org/docs/stable/generated/torch.set_float32_matmul_precision.html#torch.set_float32_matmul_precision\n"
     ]
    },
    {
     "name": "stdout",
     "output_type": "stream",
     "text": [
      "logger.version = 89\n"
     ]
    },
    {
     "name": "stderr",
     "output_type": "stream",
     "text": [
      "LOCAL_RANK: 0 - CUDA_VISIBLE_DEVICES: [0]\n",
      "\n",
      "  | Name          | Type             | Params\n",
      "---------------------------------------------------\n",
      "0 | seq_encoder   | RnnSeqEncoder    | 47.3 M\n",
      "1 | head          | Sequential       | 903   \n",
      "2 | loss          | CrossEntropyLoss | 0     \n",
      "3 | train_metrics | ModuleDict       | 0     \n",
      "4 | valid_metrics | ModuleDict       | 0     \n",
      "5 | test_metrics  | ModuleDict       | 0     \n",
      "---------------------------------------------------\n",
      "25.7 M    Trainable params\n",
      "21.6 M    Non-trainable params\n",
      "47.3 M    Total params\n",
      "189.385   Total estimated model params size (MB)\n"
     ]
    },
    {
     "data": {
      "application/vnd.jupyter.widget-view+json": {
       "model_id": "",
       "version_major": 2,
       "version_minor": 0
      },
      "text/plain": [
       "Sanity Checking: 0it [00:00, ?it/s]"
      ]
     },
     "metadata": {},
     "output_type": "display_data"
    },
    {
     "data": {
      "application/vnd.jupyter.widget-view+json": {
       "model_id": "6eeceb386a9e422e9ab9632613d4a8f2",
       "version_major": 2,
       "version_minor": 0
      },
      "text/plain": [
       "Training: 0it [00:00, ?it/s]"
      ]
     },
     "metadata": {},
     "output_type": "display_data"
    },
    {
     "data": {
      "application/vnd.jupyter.widget-view+json": {
       "model_id": "",
       "version_major": 2,
       "version_minor": 0
      },
      "text/plain": [
       "Validation: 0it [00:00, ?it/s]"
      ]
     },
     "metadata": {},
     "output_type": "display_data"
    },
    {
     "data": {
      "application/vnd.jupyter.widget-view+json": {
       "model_id": "",
       "version_major": 2,
       "version_minor": 0
      },
      "text/plain": [
       "Validation: 0it [00:00, ?it/s]"
      ]
     },
     "metadata": {},
     "output_type": "display_data"
    },
    {
     "data": {
      "application/vnd.jupyter.widget-view+json": {
       "model_id": "",
       "version_major": 2,
       "version_minor": 0
      },
      "text/plain": [
       "Validation: 0it [00:00, ?it/s]"
      ]
     },
     "metadata": {},
     "output_type": "display_data"
    },
    {
     "data": {
      "application/vnd.jupyter.widget-view+json": {
       "model_id": "",
       "version_major": 2,
       "version_minor": 0
      },
      "text/plain": [
       "Validation: 0it [00:00, ?it/s]"
      ]
     },
     "metadata": {},
     "output_type": "display_data"
    },
    {
     "name": "stderr",
     "output_type": "stream",
     "text": [
      "`Trainer.fit` stopped: `max_epochs=4` reached.\n",
      "You are using a CUDA device ('NVIDIA GeForce RTX 3090 Ti') that has Tensor Cores. To properly utilize them, you should set `torch.set_float32_matmul_precision('medium' | 'high')` which will trade-off precision for performance. For more details, read https://pytorch.org/docs/stable/generated/torch.set_float32_matmul_precision.html#torch.set_float32_matmul_precision\n",
      "Restoring states from the checkpoint path at /app/lightning_logs/version_89/checkpoints/epoch=3-step=26308.ckpt\n",
      "LOCAL_RANK: 0 - CUDA_VISIBLE_DEVICES: [0]\n",
      "Loaded model weights from checkpoint at /app/lightning_logs/version_89/checkpoints/epoch=3-step=26308.ckpt\n"
     ]
    },
    {
     "name": "stdout",
     "output_type": "stream",
     "text": [
      "{'loss': tensor(1.3688), 'seq_len': tensor(545.2500), 'y': tensor(2.7000), 'val_loss': tensor(1.2688), 'val_MulticlassF1Score': tensor(0.4443), 'train_MulticlassF1Score': tensor(0.4629)}\n"
     ]
    },
    {
     "data": {
      "application/vnd.jupyter.widget-view+json": {
       "model_id": "85faeea93dab450c8578e76b6c0a51dc",
       "version_major": 2,
       "version_minor": 0
      },
      "text/plain": [
       "Testing: 0it [00:00, ?it/s]"
      ]
     },
     "metadata": {},
     "output_type": "display_data"
    },
    {
     "name": "stdout",
     "output_type": "stream",
     "text": [
      "────────────────────────────────────────────────────────────────────────────────────────────────────────────────────────\n",
      "       Test metric             DataLoader 0\n",
      "────────────────────────────────────────────────────────────────────────────────────────────────────────────────────────\n",
      " test_MulticlassF1Score     0.4442833662033081\n",
      "────────────────────────────────────────────────────────────────────────────────────────────────────────────────────────\n"
     ]
    },
    {
     "name": "stderr",
     "output_type": "stream",
     "text": [
      "You are using a CUDA device ('NVIDIA GeForce RTX 3090 Ti') that has Tensor Cores. To properly utilize them, you should set `torch.set_float32_matmul_precision('medium' | 'high')` which will trade-off precision for performance. For more details, read https://pytorch.org/docs/stable/generated/torch.set_float32_matmul_precision.html#torch.set_float32_matmul_precision\n",
      "LOCAL_RANK: 0 - CUDA_VISIBLE_DEVICES: [0]\n"
     ]
    },
    {
     "data": {
      "application/vnd.jupyter.widget-view+json": {
       "model_id": "03ab01b521414050b841305419259e15",
       "version_major": 2,
       "version_minor": 0
      },
      "text/plain": [
       "Predicting: 6577it [00:00, ?it/s]"
      ]
     },
     "metadata": {},
     "output_type": "display_data"
    },
    {
     "name": "stderr",
     "output_type": "stream",
     "text": [
      "You are using a CUDA device ('NVIDIA GeForce RTX 3090 Ti') that has Tensor Cores. To properly utilize them, you should set `torch.set_float32_matmul_precision('medium' | 'high')` which will trade-off precision for performance. For more details, read https://pytorch.org/docs/stable/generated/torch.set_float32_matmul_precision.html#torch.set_float32_matmul_precision\n",
      "LOCAL_RANK: 0 - CUDA_VISIBLE_DEVICES: [0]\n"
     ]
    },
    {
     "data": {
      "application/vnd.jupyter.widget-view+json": {
       "model_id": "f56d6110e2764beca6c080313db65e6f",
       "version_major": 2,
       "version_minor": 0
      },
      "text/plain": [
       "Predicting: 6577it [00:00, ?it/s]"
      ]
     },
     "metadata": {},
     "output_type": "display_data"
    },
    {
     "name": "stdout",
     "output_type": "stream",
     "text": [
      "Fold 2:\n"
     ]
    },
    {
     "name": "stderr",
     "output_type": "stream",
     "text": [
      "Global seed set to 43\n",
      "GPU available: True (cuda), used: True\n",
      "TPU available: False, using: 0 TPU cores\n",
      "IPU available: False, using: 0 IPUs\n",
      "HPU available: False, using: 0 HPUs\n",
      "You are using a CUDA device ('NVIDIA GeForce RTX 3090 Ti') that has Tensor Cores. To properly utilize them, you should set `torch.set_float32_matmul_precision('medium' | 'high')` which will trade-off precision for performance. For more details, read https://pytorch.org/docs/stable/generated/torch.set_float32_matmul_precision.html#torch.set_float32_matmul_precision\n",
      "LOCAL_RANK: 0 - CUDA_VISIBLE_DEVICES: [0]\n",
      "\n",
      "  | Name          | Type             | Params\n",
      "---------------------------------------------------\n",
      "0 | seq_encoder   | RnnSeqEncoder    | 47.3 M\n",
      "1 | head          | Sequential       | 903   \n",
      "2 | loss          | CrossEntropyLoss | 0     \n",
      "3 | train_metrics | ModuleDict       | 0     \n",
      "4 | valid_metrics | ModuleDict       | 0     \n",
      "5 | test_metrics  | ModuleDict       | 0     \n",
      "---------------------------------------------------\n",
      "25.7 M    Trainable params\n",
      "21.6 M    Non-trainable params\n",
      "47.3 M    Total params\n",
      "189.385   Total estimated model params size (MB)\n"
     ]
    },
    {
     "name": "stdout",
     "output_type": "stream",
     "text": [
      "logger.version = 90\n"
     ]
    },
    {
     "data": {
      "application/vnd.jupyter.widget-view+json": {
       "model_id": "",
       "version_major": 2,
       "version_minor": 0
      },
      "text/plain": [
       "Sanity Checking: 0it [00:00, ?it/s]"
      ]
     },
     "metadata": {},
     "output_type": "display_data"
    },
    {
     "data": {
      "application/vnd.jupyter.widget-view+json": {
       "model_id": "211cfef98dba4415b72df53c7fc487f9",
       "version_major": 2,
       "version_minor": 0
      },
      "text/plain": [
       "Training: 0it [00:00, ?it/s]"
      ]
     },
     "metadata": {},
     "output_type": "display_data"
    },
    {
     "data": {
      "application/vnd.jupyter.widget-view+json": {
       "model_id": "",
       "version_major": 2,
       "version_minor": 0
      },
      "text/plain": [
       "Validation: 0it [00:00, ?it/s]"
      ]
     },
     "metadata": {},
     "output_type": "display_data"
    },
    {
     "data": {
      "application/vnd.jupyter.widget-view+json": {
       "model_id": "",
       "version_major": 2,
       "version_minor": 0
      },
      "text/plain": [
       "Validation: 0it [00:00, ?it/s]"
      ]
     },
     "metadata": {},
     "output_type": "display_data"
    },
    {
     "data": {
      "application/vnd.jupyter.widget-view+json": {
       "model_id": "",
       "version_major": 2,
       "version_minor": 0
      },
      "text/plain": [
       "Validation: 0it [00:00, ?it/s]"
      ]
     },
     "metadata": {},
     "output_type": "display_data"
    },
    {
     "data": {
      "application/vnd.jupyter.widget-view+json": {
       "model_id": "",
       "version_major": 2,
       "version_minor": 0
      },
      "text/plain": [
       "Validation: 0it [00:00, ?it/s]"
      ]
     },
     "metadata": {},
     "output_type": "display_data"
    },
    {
     "name": "stderr",
     "output_type": "stream",
     "text": [
      "`Trainer.fit` stopped: `max_epochs=4` reached.\n",
      "You are using a CUDA device ('NVIDIA GeForce RTX 3090 Ti') that has Tensor Cores. To properly utilize them, you should set `torch.set_float32_matmul_precision('medium' | 'high')` which will trade-off precision for performance. For more details, read https://pytorch.org/docs/stable/generated/torch.set_float32_matmul_precision.html#torch.set_float32_matmul_precision\n",
      "Restoring states from the checkpoint path at /app/lightning_logs/version_90/checkpoints/epoch=3-step=26308.ckpt\n",
      "LOCAL_RANK: 0 - CUDA_VISIBLE_DEVICES: [0]\n",
      "Loaded model weights from checkpoint at /app/lightning_logs/version_90/checkpoints/epoch=3-step=26308.ckpt\n"
     ]
    },
    {
     "name": "stdout",
     "output_type": "stream",
     "text": [
      "{'loss': tensor(1.3054), 'seq_len': tensor(468.3500), 'y': tensor(3.), 'val_loss': tensor(1.2649), 'val_MulticlassF1Score': tensor(0.4437), 'train_MulticlassF1Score': tensor(0.4642)}\n"
     ]
    },
    {
     "data": {
      "application/vnd.jupyter.widget-view+json": {
       "model_id": "e053ef5e55fc4f97885fafe0e06c01cc",
       "version_major": 2,
       "version_minor": 0
      },
      "text/plain": [
       "Testing: 0it [00:00, ?it/s]"
      ]
     },
     "metadata": {},
     "output_type": "display_data"
    },
    {
     "name": "stdout",
     "output_type": "stream",
     "text": [
      "────────────────────────────────────────────────────────────────────────────────────────────────────────────────────────\n",
      "       Test metric             DataLoader 0\n",
      "────────────────────────────────────────────────────────────────────────────────────────────────────────────────────────\n",
      " test_MulticlassF1Score     0.4437177777290344\n",
      "────────────────────────────────────────────────────────────────────────────────────────────────────────────────────────\n"
     ]
    },
    {
     "name": "stderr",
     "output_type": "stream",
     "text": [
      "You are using a CUDA device ('NVIDIA GeForce RTX 3090 Ti') that has Tensor Cores. To properly utilize them, you should set `torch.set_float32_matmul_precision('medium' | 'high')` which will trade-off precision for performance. For more details, read https://pytorch.org/docs/stable/generated/torch.set_float32_matmul_precision.html#torch.set_float32_matmul_precision\n",
      "LOCAL_RANK: 0 - CUDA_VISIBLE_DEVICES: [0]\n"
     ]
    },
    {
     "data": {
      "application/vnd.jupyter.widget-view+json": {
       "model_id": "0ff5541688f5453098b67c0ec49fe378",
       "version_major": 2,
       "version_minor": 0
      },
      "text/plain": [
       "Predicting: 6577it [00:00, ?it/s]"
      ]
     },
     "metadata": {},
     "output_type": "display_data"
    },
    {
     "name": "stderr",
     "output_type": "stream",
     "text": [
      "You are using a CUDA device ('NVIDIA GeForce RTX 3090 Ti') that has Tensor Cores. To properly utilize them, you should set `torch.set_float32_matmul_precision('medium' | 'high')` which will trade-off precision for performance. For more details, read https://pytorch.org/docs/stable/generated/torch.set_float32_matmul_precision.html#torch.set_float32_matmul_precision\n",
      "LOCAL_RANK: 0 - CUDA_VISIBLE_DEVICES: [0]\n"
     ]
    },
    {
     "data": {
      "application/vnd.jupyter.widget-view+json": {
       "model_id": "cfd34bf3aadf46568bdaf8f241067259",
       "version_major": 2,
       "version_minor": 0
      },
      "text/plain": [
       "Predicting: 6577it [00:00, ?it/s]"
      ]
     },
     "metadata": {},
     "output_type": "display_data"
    },
    {
     "name": "stdout",
     "output_type": "stream",
     "text": [
      "Fold 3:\n"
     ]
    },
    {
     "name": "stderr",
     "output_type": "stream",
     "text": [
      "Global seed set to 44\n",
      "GPU available: True (cuda), used: True\n",
      "TPU available: False, using: 0 TPU cores\n",
      "IPU available: False, using: 0 IPUs\n",
      "HPU available: False, using: 0 HPUs\n",
      "You are using a CUDA device ('NVIDIA GeForce RTX 3090 Ti') that has Tensor Cores. To properly utilize them, you should set `torch.set_float32_matmul_precision('medium' | 'high')` which will trade-off precision for performance. For more details, read https://pytorch.org/docs/stable/generated/torch.set_float32_matmul_precision.html#torch.set_float32_matmul_precision\n",
      "LOCAL_RANK: 0 - CUDA_VISIBLE_DEVICES: [0]\n",
      "\n",
      "  | Name          | Type             | Params\n",
      "---------------------------------------------------\n",
      "0 | seq_encoder   | RnnSeqEncoder    | 47.3 M\n",
      "1 | head          | Sequential       | 903   \n",
      "2 | loss          | CrossEntropyLoss | 0     \n",
      "3 | train_metrics | ModuleDict       | 0     \n",
      "4 | valid_metrics | ModuleDict       | 0     \n",
      "5 | test_metrics  | ModuleDict       | 0     \n",
      "---------------------------------------------------\n",
      "25.7 M    Trainable params\n",
      "21.6 M    Non-trainable params\n",
      "47.3 M    Total params\n",
      "189.385   Total estimated model params size (MB)\n"
     ]
    },
    {
     "name": "stdout",
     "output_type": "stream",
     "text": [
      "logger.version = 91\n"
     ]
    },
    {
     "data": {
      "application/vnd.jupyter.widget-view+json": {
       "model_id": "",
       "version_major": 2,
       "version_minor": 0
      },
      "text/plain": [
       "Sanity Checking: 0it [00:00, ?it/s]"
      ]
     },
     "metadata": {},
     "output_type": "display_data"
    },
    {
     "data": {
      "application/vnd.jupyter.widget-view+json": {
       "model_id": "71380a712cb443ec9e9273954a003a0f",
       "version_major": 2,
       "version_minor": 0
      },
      "text/plain": [
       "Training: 0it [00:00, ?it/s]"
      ]
     },
     "metadata": {},
     "output_type": "display_data"
    },
    {
     "data": {
      "application/vnd.jupyter.widget-view+json": {
       "model_id": "",
       "version_major": 2,
       "version_minor": 0
      },
      "text/plain": [
       "Validation: 0it [00:00, ?it/s]"
      ]
     },
     "metadata": {},
     "output_type": "display_data"
    },
    {
     "data": {
      "application/vnd.jupyter.widget-view+json": {
       "model_id": "",
       "version_major": 2,
       "version_minor": 0
      },
      "text/plain": [
       "Validation: 0it [00:00, ?it/s]"
      ]
     },
     "metadata": {},
     "output_type": "display_data"
    },
    {
     "data": {
      "application/vnd.jupyter.widget-view+json": {
       "model_id": "",
       "version_major": 2,
       "version_minor": 0
      },
      "text/plain": [
       "Validation: 0it [00:00, ?it/s]"
      ]
     },
     "metadata": {},
     "output_type": "display_data"
    },
    {
     "data": {
      "application/vnd.jupyter.widget-view+json": {
       "model_id": "",
       "version_major": 2,
       "version_minor": 0
      },
      "text/plain": [
       "Validation: 0it [00:00, ?it/s]"
      ]
     },
     "metadata": {},
     "output_type": "display_data"
    },
    {
     "name": "stderr",
     "output_type": "stream",
     "text": [
      "`Trainer.fit` stopped: `max_epochs=4` reached.\n",
      "You are using a CUDA device ('NVIDIA GeForce RTX 3090 Ti') that has Tensor Cores. To properly utilize them, you should set `torch.set_float32_matmul_precision('medium' | 'high')` which will trade-off precision for performance. For more details, read https://pytorch.org/docs/stable/generated/torch.set_float32_matmul_precision.html#torch.set_float32_matmul_precision\n",
      "Restoring states from the checkpoint path at /app/lightning_logs/version_91/checkpoints/epoch=3-step=26308.ckpt\n",
      "LOCAL_RANK: 0 - CUDA_VISIBLE_DEVICES: [0]\n",
      "Loaded model weights from checkpoint at /app/lightning_logs/version_91/checkpoints/epoch=3-step=26308.ckpt\n"
     ]
    },
    {
     "name": "stdout",
     "output_type": "stream",
     "text": [
      "{'loss': tensor(1.2527), 'seq_len': tensor(574.0500), 'y': tensor(2.5500), 'val_loss': tensor(1.2653), 'val_MulticlassF1Score': tensor(0.4447), 'train_MulticlassF1Score': tensor(0.4634)}\n"
     ]
    },
    {
     "data": {
      "application/vnd.jupyter.widget-view+json": {
       "model_id": "b0523511265b405480ac49540e2b7a86",
       "version_major": 2,
       "version_minor": 0
      },
      "text/plain": [
       "Testing: 0it [00:00, ?it/s]"
      ]
     },
     "metadata": {},
     "output_type": "display_data"
    },
    {
     "name": "stdout",
     "output_type": "stream",
     "text": [
      "────────────────────────────────────────────────────────────────────────────────────────────────────────────────────────\n",
      "       Test metric             DataLoader 0\n",
      "────────────────────────────────────────────────────────────────────────────────────────────────────────────────────────\n",
      " test_MulticlassF1Score      0.444654256105423\n",
      "────────────────────────────────────────────────────────────────────────────────────────────────────────────────────────\n"
     ]
    },
    {
     "name": "stderr",
     "output_type": "stream",
     "text": [
      "You are using a CUDA device ('NVIDIA GeForce RTX 3090 Ti') that has Tensor Cores. To properly utilize them, you should set `torch.set_float32_matmul_precision('medium' | 'high')` which will trade-off precision for performance. For more details, read https://pytorch.org/docs/stable/generated/torch.set_float32_matmul_precision.html#torch.set_float32_matmul_precision\n",
      "LOCAL_RANK: 0 - CUDA_VISIBLE_DEVICES: [0]\n"
     ]
    },
    {
     "data": {
      "application/vnd.jupyter.widget-view+json": {
       "model_id": "bb34360da44b432a978ffa1dccb0a2d3",
       "version_major": 2,
       "version_minor": 0
      },
      "text/plain": [
       "Predicting: 6577it [00:00, ?it/s]"
      ]
     },
     "metadata": {},
     "output_type": "display_data"
    },
    {
     "name": "stderr",
     "output_type": "stream",
     "text": [
      "You are using a CUDA device ('NVIDIA GeForce RTX 3090 Ti') that has Tensor Cores. To properly utilize them, you should set `torch.set_float32_matmul_precision('medium' | 'high')` which will trade-off precision for performance. For more details, read https://pytorch.org/docs/stable/generated/torch.set_float32_matmul_precision.html#torch.set_float32_matmul_precision\n",
      "LOCAL_RANK: 0 - CUDA_VISIBLE_DEVICES: [0]\n"
     ]
    },
    {
     "data": {
      "application/vnd.jupyter.widget-view+json": {
       "model_id": "49a13467d1734af8bcb731b1a9322117",
       "version_major": 2,
       "version_minor": 0
      },
      "text/plain": [
       "Predicting: 6577it [00:00, ?it/s]"
      ]
     },
     "metadata": {},
     "output_type": "display_data"
    },
    {
     "name": "stdout",
     "output_type": "stream",
     "text": [
      "Fold 4:\n"
     ]
    },
    {
     "name": "stderr",
     "output_type": "stream",
     "text": [
      "Global seed set to 45\n",
      "GPU available: True (cuda), used: True\n",
      "TPU available: False, using: 0 TPU cores\n",
      "IPU available: False, using: 0 IPUs\n",
      "HPU available: False, using: 0 HPUs\n",
      "You are using a CUDA device ('NVIDIA GeForce RTX 3090 Ti') that has Tensor Cores. To properly utilize them, you should set `torch.set_float32_matmul_precision('medium' | 'high')` which will trade-off precision for performance. For more details, read https://pytorch.org/docs/stable/generated/torch.set_float32_matmul_precision.html#torch.set_float32_matmul_precision\n",
      "LOCAL_RANK: 0 - CUDA_VISIBLE_DEVICES: [0]\n",
      "\n",
      "  | Name          | Type             | Params\n",
      "---------------------------------------------------\n",
      "0 | seq_encoder   | RnnSeqEncoder    | 47.3 M\n",
      "1 | head          | Sequential       | 903   \n",
      "2 | loss          | CrossEntropyLoss | 0     \n",
      "3 | train_metrics | ModuleDict       | 0     \n",
      "4 | valid_metrics | ModuleDict       | 0     \n",
      "5 | test_metrics  | ModuleDict       | 0     \n",
      "---------------------------------------------------\n",
      "25.7 M    Trainable params\n",
      "21.6 M    Non-trainable params\n",
      "47.3 M    Total params\n",
      "189.385   Total estimated model params size (MB)\n"
     ]
    },
    {
     "name": "stdout",
     "output_type": "stream",
     "text": [
      "logger.version = 92\n"
     ]
    },
    {
     "data": {
      "application/vnd.jupyter.widget-view+json": {
       "model_id": "",
       "version_major": 2,
       "version_minor": 0
      },
      "text/plain": [
       "Sanity Checking: 0it [00:00, ?it/s]"
      ]
     },
     "metadata": {},
     "output_type": "display_data"
    },
    {
     "data": {
      "application/vnd.jupyter.widget-view+json": {
       "model_id": "02e47be3da8b41f7a3ac780c2e6e73f0",
       "version_major": 2,
       "version_minor": 0
      },
      "text/plain": [
       "Training: 0it [00:00, ?it/s]"
      ]
     },
     "metadata": {},
     "output_type": "display_data"
    },
    {
     "data": {
      "application/vnd.jupyter.widget-view+json": {
       "model_id": "",
       "version_major": 2,
       "version_minor": 0
      },
      "text/plain": [
       "Validation: 0it [00:00, ?it/s]"
      ]
     },
     "metadata": {},
     "output_type": "display_data"
    },
    {
     "data": {
      "application/vnd.jupyter.widget-view+json": {
       "model_id": "",
       "version_major": 2,
       "version_minor": 0
      },
      "text/plain": [
       "Validation: 0it [00:00, ?it/s]"
      ]
     },
     "metadata": {},
     "output_type": "display_data"
    },
    {
     "data": {
      "application/vnd.jupyter.widget-view+json": {
       "model_id": "",
       "version_major": 2,
       "version_minor": 0
      },
      "text/plain": [
       "Validation: 0it [00:00, ?it/s]"
      ]
     },
     "metadata": {},
     "output_type": "display_data"
    },
    {
     "data": {
      "application/vnd.jupyter.widget-view+json": {
       "model_id": "",
       "version_major": 2,
       "version_minor": 0
      },
      "text/plain": [
       "Validation: 0it [00:00, ?it/s]"
      ]
     },
     "metadata": {},
     "output_type": "display_data"
    },
    {
     "name": "stderr",
     "output_type": "stream",
     "text": [
      "`Trainer.fit` stopped: `max_epochs=4` reached.\n",
      "You are using a CUDA device ('NVIDIA GeForce RTX 3090 Ti') that has Tensor Cores. To properly utilize them, you should set `torch.set_float32_matmul_precision('medium' | 'high')` which will trade-off precision for performance. For more details, read https://pytorch.org/docs/stable/generated/torch.set_float32_matmul_precision.html#torch.set_float32_matmul_precision\n",
      "Restoring states from the checkpoint path at /app/lightning_logs/version_92/checkpoints/epoch=2-step=19731.ckpt\n",
      "LOCAL_RANK: 0 - CUDA_VISIBLE_DEVICES: [0]\n",
      "Loaded model weights from checkpoint at /app/lightning_logs/version_92/checkpoints/epoch=2-step=19731.ckpt\n"
     ]
    },
    {
     "name": "stdout",
     "output_type": "stream",
     "text": [
      "{'loss': tensor(0.8137), 'seq_len': tensor(481.2000), 'y': tensor(2.7000), 'val_loss': tensor(1.2637), 'val_MulticlassF1Score': tensor(0.4428), 'train_MulticlassF1Score': tensor(0.4649)}\n"
     ]
    },
    {
     "data": {
      "application/vnd.jupyter.widget-view+json": {
       "model_id": "4bebff2cccc94fdcbe40749583aa3862",
       "version_major": 2,
       "version_minor": 0
      },
      "text/plain": [
       "Testing: 0it [00:00, ?it/s]"
      ]
     },
     "metadata": {},
     "output_type": "display_data"
    },
    {
     "name": "stdout",
     "output_type": "stream",
     "text": [
      "────────────────────────────────────────────────────────────────────────────────────────────────────────────────────────\n",
      "       Test metric             DataLoader 0\n",
      "────────────────────────────────────────────────────────────────────────────────────────────────────────────────────────\n",
      " test_MulticlassF1Score     0.44288069009780884\n",
      "────────────────────────────────────────────────────────────────────────────────────────────────────────────────────────\n"
     ]
    },
    {
     "name": "stderr",
     "output_type": "stream",
     "text": [
      "You are using a CUDA device ('NVIDIA GeForce RTX 3090 Ti') that has Tensor Cores. To properly utilize them, you should set `torch.set_float32_matmul_precision('medium' | 'high')` which will trade-off precision for performance. For more details, read https://pytorch.org/docs/stable/generated/torch.set_float32_matmul_precision.html#torch.set_float32_matmul_precision\n",
      "LOCAL_RANK: 0 - CUDA_VISIBLE_DEVICES: [0]\n"
     ]
    },
    {
     "data": {
      "application/vnd.jupyter.widget-view+json": {
       "model_id": "3a965c3cbc1547e7a7df27ce84166901",
       "version_major": 2,
       "version_minor": 0
      },
      "text/plain": [
       "Predicting: 6577it [00:00, ?it/s]"
      ]
     },
     "metadata": {},
     "output_type": "display_data"
    },
    {
     "name": "stderr",
     "output_type": "stream",
     "text": [
      "You are using a CUDA device ('NVIDIA GeForce RTX 3090 Ti') that has Tensor Cores. To properly utilize them, you should set `torch.set_float32_matmul_precision('medium' | 'high')` which will trade-off precision for performance. For more details, read https://pytorch.org/docs/stable/generated/torch.set_float32_matmul_precision.html#torch.set_float32_matmul_precision\n",
      "LOCAL_RANK: 0 - CUDA_VISIBLE_DEVICES: [0]\n"
     ]
    },
    {
     "data": {
      "application/vnd.jupyter.widget-view+json": {
       "model_id": "da7875bdd3dd4f059e974d035fc6cbbe",
       "version_major": 2,
       "version_minor": 0
      },
      "text/plain": [
       "Predicting: 6577it [00:00, ?it/s]"
      ]
     },
     "metadata": {},
     "output_type": "display_data"
    },
    {
     "name": "stdout",
     "output_type": "stream",
     "text": [
      "Fold 5:\n"
     ]
    },
    {
     "name": "stderr",
     "output_type": "stream",
     "text": [
      "Global seed set to 46\n",
      "GPU available: True (cuda), used: True\n",
      "TPU available: False, using: 0 TPU cores\n",
      "IPU available: False, using: 0 IPUs\n",
      "HPU available: False, using: 0 HPUs\n",
      "You are using a CUDA device ('NVIDIA GeForce RTX 3090 Ti') that has Tensor Cores. To properly utilize them, you should set `torch.set_float32_matmul_precision('medium' | 'high')` which will trade-off precision for performance. For more details, read https://pytorch.org/docs/stable/generated/torch.set_float32_matmul_precision.html#torch.set_float32_matmul_precision\n",
      "LOCAL_RANK: 0 - CUDA_VISIBLE_DEVICES: [0]\n",
      "\n",
      "  | Name          | Type             | Params\n",
      "---------------------------------------------------\n",
      "0 | seq_encoder   | RnnSeqEncoder    | 47.3 M\n",
      "1 | head          | Sequential       | 903   \n",
      "2 | loss          | CrossEntropyLoss | 0     \n",
      "3 | train_metrics | ModuleDict       | 0     \n",
      "4 | valid_metrics | ModuleDict       | 0     \n",
      "5 | test_metrics  | ModuleDict       | 0     \n",
      "---------------------------------------------------\n",
      "25.7 M    Trainable params\n",
      "21.6 M    Non-trainable params\n",
      "47.3 M    Total params\n",
      "189.385   Total estimated model params size (MB)\n"
     ]
    },
    {
     "name": "stdout",
     "output_type": "stream",
     "text": [
      "logger.version = 93\n"
     ]
    },
    {
     "data": {
      "application/vnd.jupyter.widget-view+json": {
       "model_id": "",
       "version_major": 2,
       "version_minor": 0
      },
      "text/plain": [
       "Sanity Checking: 0it [00:00, ?it/s]"
      ]
     },
     "metadata": {},
     "output_type": "display_data"
    },
    {
     "data": {
      "application/vnd.jupyter.widget-view+json": {
       "model_id": "8fb21157b5ca4e76981f8e4ad1e570fa",
       "version_major": 2,
       "version_minor": 0
      },
      "text/plain": [
       "Training: 0it [00:00, ?it/s]"
      ]
     },
     "metadata": {},
     "output_type": "display_data"
    },
    {
     "data": {
      "application/vnd.jupyter.widget-view+json": {
       "model_id": "",
       "version_major": 2,
       "version_minor": 0
      },
      "text/plain": [
       "Validation: 0it [00:00, ?it/s]"
      ]
     },
     "metadata": {},
     "output_type": "display_data"
    },
    {
     "data": {
      "application/vnd.jupyter.widget-view+json": {
       "model_id": "",
       "version_major": 2,
       "version_minor": 0
      },
      "text/plain": [
       "Validation: 0it [00:00, ?it/s]"
      ]
     },
     "metadata": {},
     "output_type": "display_data"
    },
    {
     "data": {
      "application/vnd.jupyter.widget-view+json": {
       "model_id": "",
       "version_major": 2,
       "version_minor": 0
      },
      "text/plain": [
       "Validation: 0it [00:00, ?it/s]"
      ]
     },
     "metadata": {},
     "output_type": "display_data"
    },
    {
     "data": {
      "application/vnd.jupyter.widget-view+json": {
       "model_id": "",
       "version_major": 2,
       "version_minor": 0
      },
      "text/plain": [
       "Validation: 0it [00:00, ?it/s]"
      ]
     },
     "metadata": {},
     "output_type": "display_data"
    },
    {
     "name": "stderr",
     "output_type": "stream",
     "text": [
      "`Trainer.fit` stopped: `max_epochs=4` reached.\n",
      "You are using a CUDA device ('NVIDIA GeForce RTX 3090 Ti') that has Tensor Cores. To properly utilize them, you should set `torch.set_float32_matmul_precision('medium' | 'high')` which will trade-off precision for performance. For more details, read https://pytorch.org/docs/stable/generated/torch.set_float32_matmul_precision.html#torch.set_float32_matmul_precision\n",
      "Restoring states from the checkpoint path at /app/lightning_logs/version_93/checkpoints/epoch=2-step=19731.ckpt\n"
     ]
    },
    {
     "name": "stdout",
     "output_type": "stream",
     "text": [
      "{'loss': tensor(1.0334), 'seq_len': tensor(441.9500), 'y': tensor(2.5500), 'val_loss': tensor(1.2687), 'val_MulticlassF1Score': tensor(0.4395), 'train_MulticlassF1Score': tensor(0.4613)}\n"
     ]
    },
    {
     "name": "stderr",
     "output_type": "stream",
     "text": [
      "LOCAL_RANK: 0 - CUDA_VISIBLE_DEVICES: [0]\n",
      "Loaded model weights from checkpoint at /app/lightning_logs/version_93/checkpoints/epoch=2-step=19731.ckpt\n"
     ]
    },
    {
     "data": {
      "application/vnd.jupyter.widget-view+json": {
       "model_id": "fb54b3bab589486d9c812533f95722ce",
       "version_major": 2,
       "version_minor": 0
      },
      "text/plain": [
       "Testing: 0it [00:00, ?it/s]"
      ]
     },
     "metadata": {},
     "output_type": "display_data"
    },
    {
     "name": "stdout",
     "output_type": "stream",
     "text": [
      "────────────────────────────────────────────────────────────────────────────────────────────────────────────────────────\n",
      "       Test metric             DataLoader 0\n",
      "────────────────────────────────────────────────────────────────────────────────────────────────────────────────────────\n",
      " test_MulticlassF1Score     0.4395180940628052\n",
      "────────────────────────────────────────────────────────────────────────────────────────────────────────────────────────\n"
     ]
    },
    {
     "name": "stderr",
     "output_type": "stream",
     "text": [
      "You are using a CUDA device ('NVIDIA GeForce RTX 3090 Ti') that has Tensor Cores. To properly utilize them, you should set `torch.set_float32_matmul_precision('medium' | 'high')` which will trade-off precision for performance. For more details, read https://pytorch.org/docs/stable/generated/torch.set_float32_matmul_precision.html#torch.set_float32_matmul_precision\n",
      "LOCAL_RANK: 0 - CUDA_VISIBLE_DEVICES: [0]\n"
     ]
    },
    {
     "data": {
      "application/vnd.jupyter.widget-view+json": {
       "model_id": "98f90ae57c4d4a24954eb83205529e44",
       "version_major": 2,
       "version_minor": 0
      },
      "text/plain": [
       "Predicting: 6577it [00:00, ?it/s]"
      ]
     },
     "metadata": {},
     "output_type": "display_data"
    },
    {
     "name": "stderr",
     "output_type": "stream",
     "text": [
      "You are using a CUDA device ('NVIDIA GeForce RTX 3090 Ti') that has Tensor Cores. To properly utilize them, you should set `torch.set_float32_matmul_precision('medium' | 'high')` which will trade-off precision for performance. For more details, read https://pytorch.org/docs/stable/generated/torch.set_float32_matmul_precision.html#torch.set_float32_matmul_precision\n",
      "LOCAL_RANK: 0 - CUDA_VISIBLE_DEVICES: [0]\n"
     ]
    },
    {
     "data": {
      "application/vnd.jupyter.widget-view+json": {
       "model_id": "2c7c0a53d3f64cecbb8bd99b5efe4ad1",
       "version_major": 2,
       "version_minor": 0
      },
      "text/plain": [
       "Predicting: 6577it [00:00, ?it/s]"
      ]
     },
     "metadata": {},
     "output_type": "display_data"
    }
   ],
   "source": [
    "skf = StratifiedKFold(n_splits=N_SPLITS, random_state=45, shuffle=True)\n",
    "oof_preds = np.zeros((len(dataset_train_all), 7))\n",
    "test_preds = np.zeros((len(dataset_test), 7))\n",
    "\n",
    "for i, (train_index, valid_index) in enumerate(skf.split(dataset_train_all, [e['target'] for e in dataset_train_all])):\n",
    "    print(f\"Fold {i+1}:\")\n",
    "    dataset_train, dataset_valid = [dataset_train_all[i] for i in train_index], [dataset_train_all[i] for i in valid_index]\n",
    "    finetune_dm = PtlsDataModule(\n",
    "        train_data=get_dataset(dataset_train),\n",
    "        valid_data=get_dataset(dataset_valid),\n",
    "        test_data=get_dataset(dataset_test),\n",
    "        train_num_workers=1,\n",
    "        valid_num_workers=1,\n",
    "        test_num_workers=1,\n",
    "        train_batch_size=BATCH_SIZE,\n",
    "        test_batch_size=BATCH_SIZE,\n",
    "        valid_batch_size=BATCH_SIZE,\n",
    "    )\n",
    "    seed_everything(42 + i, workers=True)\n",
    "    downstream_model = SequenceToTarget(\n",
    "        seq_encoder=RnnSeqEncoder(\n",
    "            trx_encoder=torch.nn.Sequential(\n",
    "                torch.nn.Sequential(\n",
    "                    TrxEncoder(**trx_encoder_params),\n",
    "                    PBLinear(trx_encoder.output_size + WORD_SIZE*int(USE_TEXTS == True), PB_LINEAR),\n",
    "                    PBL2Norm(),\n",
    "                ),\n",
    "                PBLayerNorm(PB_LINEAR),\n",
    "            ),\n",
    "            input_size=PB_LINEAR,\n",
    "            hidden_size=HIDDEN_SIZE,\n",
    "            bidir=BIDIRECT,\n",
    "            type=RNN_TYPE,\n",
    "        ),\n",
    "        head=torch.nn.Sequential(\n",
    "                torch.nn.Linear(HIDDEN_SIZE*(1 + int(BIDIRECT == True)), 7),\n",
    "                #torch.nn.Sigmoid(),\n",
    "                # torch.nn.Flatten(start_dim=0),\n",
    "        ),\n",
    "        loss=torch.nn.CrossEntropyLoss(),\n",
    "        metric_list=torchmetrics.F1Score(num_classes=7, task='multiclass', average='weighted'),\n",
    "        pretrained_lr=0.005,\n",
    "        optimizer_partial=partial(torch.optim.Adam, lr=LR),\n",
    "        lr_scheduler_partial=partial(torch.optim.lr_scheduler.StepLR, step_size=1, gamma=0.1),\n",
    "    )\n",
    "\n",
    "    trainer_ft = pl.Trainer(\n",
    "        max_epochs=NUM_EPOCHS,\n",
    "        devices=1, accelerator=\"gpu\",\n",
    "        enable_progress_bar=True,\n",
    "        gradient_clip_val=1000,\n",
    "        gradient_clip_algorithm=\"norm\",\n",
    "        callbacks=[\n",
    "            pl.callbacks.LearningRateMonitor(logging_interval='step'),\n",
    "                    pl.callbacks.ModelCheckpoint(monitor=\"val_MulticlassF1Score\",\n",
    "                                         mode=\"max\",\n",
    "                                         save_top_k=1),\n",
    "        ]\n",
    "    )\n",
    "    print(f'logger.version = {trainer_ft.logger.version}')\n",
    "    trainer_ft.fit(downstream_model, finetune_dm)\n",
    "    print(trainer_ft.logged_metrics)\n",
    "\n",
    "    trainer_ft.test(dataloaders=finetune_dm.val_dataloader(), verbose=True)\n",
    "\n",
    "    valid_dl = inference_data_loader(dataset_valid, num_workers=1, batch_size= BATCH_SIZE)\n",
    "    valid_preds = torch.vstack(trainer_ft.predict(downstream_model, valid_dl))\n",
    "    valid_preds = torch.nn.Softmax(dim=1)(valid_preds)\n",
    "    oof_preds[valid_index] = valid_preds.detach().cpu().numpy()\n",
    "\n",
    "    test_dl = inference_data_loader(dataset_test, num_workers=1, batch_size= BATCH_SIZE)\n",
    "    test_preds_ = torch.vstack(trainer_ft.predict(downstream_model, test_dl))/N_SPLITS\n",
    "    test_preds += torch.nn.Softmax(dim=1)(test_preds_).detach().cpu().numpy()"
   ]
  },
  {
   "cell_type": "code",
   "execution_count": 12,
   "id": "4bd49fa3-5c2c-4347-b0cb-735e9beb3435",
   "metadata": {
    "tags": []
   },
   "outputs": [],
   "source": [
    "pred_test_nn = pd.DataFrame()\n",
    "for i in range(7):\n",
    "    pred_test_nn[f'age_prob_1024_lstm_{i}'] = test_preds[:, i]\n",
    "pred_test_nn[\"user_id\"] = [e[\"user_id\"] for e in dataset_test]\n",
    "pred_test_nn.sort_values(\"user_id\", inplace=True)\n",
    "pred_test_nn.to_csv(\"age_lstm_test_1024.csv\", index=False)"
   ]
  },
  {
   "cell_type": "code",
   "execution_count": 13,
   "id": "0c9d63f9-bf3b-4f90-b3fd-5a35bb9a953c",
   "metadata": {
    "tags": []
   },
   "outputs": [],
   "source": [
    "pred_oof_nn = pd.DataFrame()\n",
    "for i in range(7):\n",
    "    pred_oof_nn[f'age_prob_1024_lstm_{i}'] = oof_preds[:, i]\n",
    "pred_oof_nn[\"user_id\"] = [e[\"user_id\"] for e in dataset_train_all]\n",
    "pred_oof_nn.sort_values(\"user_id\", inplace=True)\n",
    "pred_oof_nn.to_csv(\"age_lstm_oof_1024.csv\", index=False)"
   ]
  },
  {
   "cell_type": "code",
   "execution_count": 14,
   "id": "97808f0b-0a8e-4e86-94b9-7225b80751f3",
   "metadata": {
    "tags": []
   },
   "outputs": [
    {
     "data": {
      "text/html": [
       "<div>\n",
       "<style scoped>\n",
       "    .dataframe tbody tr th:only-of-type {\n",
       "        vertical-align: middle;\n",
       "    }\n",
       "\n",
       "    .dataframe tbody tr th {\n",
       "        vertical-align: top;\n",
       "    }\n",
       "\n",
       "    .dataframe thead th {\n",
       "        text-align: right;\n",
       "    }\n",
       "</style>\n",
       "<table border=\"1\" class=\"dataframe\">\n",
       "  <thead>\n",
       "    <tr style=\"text-align: right;\">\n",
       "      <th></th>\n",
       "      <th>age_prob_0</th>\n",
       "      <th>age_prob_1</th>\n",
       "      <th>age_prob_2</th>\n",
       "      <th>age_prob_3</th>\n",
       "      <th>age_prob_4</th>\n",
       "      <th>age_prob_5</th>\n",
       "      <th>age_prob_6</th>\n",
       "      <th>user_id</th>\n",
       "    </tr>\n",
       "  </thead>\n",
       "  <tbody>\n",
       "    <tr>\n",
       "      <th>0</th>\n",
       "      <td>5.514933e-09</td>\n",
       "      <td>0.007125</td>\n",
       "      <td>0.097371</td>\n",
       "      <td>0.308670</td>\n",
       "      <td>0.339761</td>\n",
       "      <td>0.204677</td>\n",
       "      <td>0.042396</td>\n",
       "      <td>0</td>\n",
       "    </tr>\n",
       "    <tr>\n",
       "      <th>1</th>\n",
       "      <td>4.139704e-08</td>\n",
       "      <td>0.012657</td>\n",
       "      <td>0.214487</td>\n",
       "      <td>0.447223</td>\n",
       "      <td>0.245477</td>\n",
       "      <td>0.072052</td>\n",
       "      <td>0.008103</td>\n",
       "      <td>1</td>\n",
       "    </tr>\n",
       "    <tr>\n",
       "      <th>2</th>\n",
       "      <td>3.310023e-08</td>\n",
       "      <td>0.251905</td>\n",
       "      <td>0.515394</td>\n",
       "      <td>0.183775</td>\n",
       "      <td>0.032996</td>\n",
       "      <td>0.011937</td>\n",
       "      <td>0.003993</td>\n",
       "      <td>2</td>\n",
       "    </tr>\n",
       "    <tr>\n",
       "      <th>3</th>\n",
       "      <td>7.131284e-09</td>\n",
       "      <td>0.113768</td>\n",
       "      <td>0.434225</td>\n",
       "      <td>0.314108</td>\n",
       "      <td>0.097475</td>\n",
       "      <td>0.033316</td>\n",
       "      <td>0.007108</td>\n",
       "      <td>3</td>\n",
       "    </tr>\n",
       "    <tr>\n",
       "      <th>4</th>\n",
       "      <td>3.896784e-09</td>\n",
       "      <td>0.157247</td>\n",
       "      <td>0.606553</td>\n",
       "      <td>0.208856</td>\n",
       "      <td>0.021494</td>\n",
       "      <td>0.004887</td>\n",
       "      <td>0.000963</td>\n",
       "      <td>4</td>\n",
       "    </tr>\n",
       "    <tr>\n",
       "      <th>...</th>\n",
       "      <td>...</td>\n",
       "      <td>...</td>\n",
       "      <td>...</td>\n",
       "      <td>...</td>\n",
       "      <td>...</td>\n",
       "      <td>...</td>\n",
       "      <td>...</td>\n",
       "      <td>...</td>\n",
       "    </tr>\n",
       "    <tr>\n",
       "      <th>263060</th>\n",
       "      <td>4.639892e-05</td>\n",
       "      <td>0.041465</td>\n",
       "      <td>0.198957</td>\n",
       "      <td>0.257304</td>\n",
       "      <td>0.230839</td>\n",
       "      <td>0.197619</td>\n",
       "      <td>0.073770</td>\n",
       "      <td>415282</td>\n",
       "    </tr>\n",
       "    <tr>\n",
       "      <th>263061</th>\n",
       "      <td>3.924040e-06</td>\n",
       "      <td>0.094044</td>\n",
       "      <td>0.358405</td>\n",
       "      <td>0.279598</td>\n",
       "      <td>0.157236</td>\n",
       "      <td>0.091486</td>\n",
       "      <td>0.019227</td>\n",
       "      <td>415283</td>\n",
       "    </tr>\n",
       "    <tr>\n",
       "      <th>263062</th>\n",
       "      <td>2.594526e-06</td>\n",
       "      <td>0.077804</td>\n",
       "      <td>0.304284</td>\n",
       "      <td>0.306541</td>\n",
       "      <td>0.178612</td>\n",
       "      <td>0.106338</td>\n",
       "      <td>0.026418</td>\n",
       "      <td>415295</td>\n",
       "    </tr>\n",
       "    <tr>\n",
       "      <th>263063</th>\n",
       "      <td>1.308965e-05</td>\n",
       "      <td>0.152782</td>\n",
       "      <td>0.360145</td>\n",
       "      <td>0.237567</td>\n",
       "      <td>0.136960</td>\n",
       "      <td>0.090494</td>\n",
       "      <td>0.022038</td>\n",
       "      <td>415300</td>\n",
       "    </tr>\n",
       "    <tr>\n",
       "      <th>263064</th>\n",
       "      <td>4.273719e-06</td>\n",
       "      <td>0.103742</td>\n",
       "      <td>0.335136</td>\n",
       "      <td>0.329030</td>\n",
       "      <td>0.143187</td>\n",
       "      <td>0.068128</td>\n",
       "      <td>0.020772</td>\n",
       "      <td>415301</td>\n",
       "    </tr>\n",
       "  </tbody>\n",
       "</table>\n",
       "<p>263065 rows × 8 columns</p>\n",
       "</div>"
      ],
      "text/plain": [
       "          age_prob_0  age_prob_1  age_prob_2  age_prob_3  age_prob_4  \\\n",
       "0       5.514933e-09    0.007125    0.097371    0.308670    0.339761   \n",
       "1       4.139704e-08    0.012657    0.214487    0.447223    0.245477   \n",
       "2       3.310023e-08    0.251905    0.515394    0.183775    0.032996   \n",
       "3       7.131284e-09    0.113768    0.434225    0.314108    0.097475   \n",
       "4       3.896784e-09    0.157247    0.606553    0.208856    0.021494   \n",
       "...              ...         ...         ...         ...         ...   \n",
       "263060  4.639892e-05    0.041465    0.198957    0.257304    0.230839   \n",
       "263061  3.924040e-06    0.094044    0.358405    0.279598    0.157236   \n",
       "263062  2.594526e-06    0.077804    0.304284    0.306541    0.178612   \n",
       "263063  1.308965e-05    0.152782    0.360145    0.237567    0.136960   \n",
       "263064  4.273719e-06    0.103742    0.335136    0.329030    0.143187   \n",
       "\n",
       "        age_prob_5  age_prob_6  user_id  \n",
       "0         0.204677    0.042396        0  \n",
       "1         0.072052    0.008103        1  \n",
       "2         0.011937    0.003993        2  \n",
       "3         0.033316    0.007108        3  \n",
       "4         0.004887    0.000963        4  \n",
       "...            ...         ...      ...  \n",
       "263060    0.197619    0.073770   415282  \n",
       "263061    0.091486    0.019227   415283  \n",
       "263062    0.106338    0.026418   415295  \n",
       "263063    0.090494    0.022038   415300  \n",
       "263064    0.068128    0.020772   415301  \n",
       "\n",
       "[263065 rows x 8 columns]"
      ]
     },
     "execution_count": 14,
     "metadata": {},
     "output_type": "execute_result"
    }
   ],
   "source": [
    "pred_oof_nn"
   ]
  },
  {
   "cell_type": "code",
   "execution_count": null,
   "id": "2ea8f295-8777-4eb9-9a09-a430aa7de17a",
   "metadata": {},
   "outputs": [],
   "source": []
  }
 ],
 "metadata": {
  "kernelspec": {
   "display_name": "Python 3 (ipykernel)",
   "language": "python",
   "name": "python3"
  },
  "language_info": {
   "codemirror_mode": {
    "name": "ipython",
    "version": 3
   },
   "file_extension": ".py",
   "mimetype": "text/x-python",
   "name": "python",
   "nbconvert_exporter": "python",
   "pygments_lexer": "ipython3",
   "version": "3.8.16"
  }
 },
 "nbformat": 4,
 "nbformat_minor": 5
}
