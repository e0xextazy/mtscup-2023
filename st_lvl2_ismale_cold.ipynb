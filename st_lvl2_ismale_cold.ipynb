{
 "cells": [
  {
   "cell_type": "code",
   "execution_count": 14,
   "metadata": {
    "tags": []
   },
   "outputs": [],
   "source": [
    "# !pip install -U --user /kaggle/input/lama-nn/LightAutoML-0.3.7.4-py3-none-any.whl >> none"
   ]
  },
  {
   "cell_type": "code",
   "execution_count": 1,
   "metadata": {
    "tags": []
   },
   "outputs": [],
   "source": [
    "import numpy as np # linear algebra\n",
    "import pandas as pd # data processing, CSV file I/O (e.g. pd.read_csv)\n",
    "from tqdm.notebook import tqdm\n",
    "import copy\n",
    "import gc\n",
    "import os\n",
    "import time\n",
    "import lightautoml"
   ]
  },
  {
   "cell_type": "code",
   "execution_count": 2,
   "metadata": {
    "tags": []
   },
   "outputs": [],
   "source": [
    "def reduce_mem_usage(df):\n",
    "    \"\"\" iterate through all the columns of a dataframe and modify the data type\n",
    "        to reduce memory usage.        \n",
    "    \"\"\"\n",
    "    start_mem = df.memory_usage().sum() / 1024**2\n",
    "    print('Memory usage of dataframe is {:.2f} MB'.format(start_mem))\n",
    "    \n",
    "    for col in df.columns:\n",
    "        col_type = df[col].dtype\n",
    "        \n",
    "        if col_type != object:\n",
    "            c_min = df[col].min()\n",
    "            c_max = df[col].max()\n",
    "            if str(col_type)[:3] == 'int':\n",
    "                if c_min > np.iinfo(np.int8).min and c_max < np.iinfo(np.int8).max:\n",
    "                    df[col] = df[col].astype(np.int8)\n",
    "                elif c_min > np.iinfo(np.int16).min and c_max < np.iinfo(np.int16).max:\n",
    "                    df[col] = df[col].astype(np.int16)\n",
    "                elif c_min > np.iinfo(np.int32).min and c_max < np.iinfo(np.int32).max:\n",
    "                    df[col] = df[col].astype(np.int32)\n",
    "                elif c_min > np.iinfo(np.int64).min and c_max < np.iinfo(np.int64).max:\n",
    "                    df[col] = df[col].astype(np.int64)  \n",
    "            else:\n",
    "                if c_min > np.finfo(np.float16).min and c_max < np.finfo(np.float16).max:\n",
    "                    df[col] = df[col].astype(np.float16)\n",
    "                elif c_min > np.finfo(np.float32).min and c_max < np.finfo(np.float32).max:\n",
    "                    df[col] = df[col].astype(np.float32)\n",
    "                else:\n",
    "                    df[col] = df[col].astype(np.float64)\n",
    "        else:\n",
    "            df[col] = df[col].astype('category')\n",
    "\n",
    "    end_mem = df.memory_usage().sum() / 1024**2\n",
    "    print('Memory usage after optimization is: {:.2f} MB'.format(end_mem))\n",
    "    print('Decreased by {:.1f}%'.format(100 * (start_mem - end_mem) / start_mem))\n",
    "    \n",
    "    return df"
   ]
  },
  {
   "cell_type": "code",
   "execution_count": 3,
   "metadata": {
    "tags": []
   },
   "outputs": [],
   "source": [
    "# target = pd.read_csv(\"tr.csv\", usecols=['user_id', 'is_male'])\n",
    "# # test = pd.read_csv(\"/kaggle/input/mlcupmlfeaturesv6/test_ml_num_v2.csv\", nrows=10000)\n",
    "# # test.sort_values(\"user_id\", inplace=True)\n",
    "\n",
    "# print(len(target))"
   ]
  },
  {
   "cell_type": "code",
   "execution_count": 4,
   "metadata": {
    "tags": []
   },
   "outputs": [],
   "source": [
    "# oof_age = pd.read_csv(\"oof_warm_male_big_automl.csv\")\n",
    "# test_age = pd.read_csv(\"test_warm_male_big_automl.csv\")\n",
    "\n",
    "# pca_train = pd.read_csv(\"pca_train.csv\")\n",
    "# pca_test = pd.read_csv(\"pca_test.csv\")\n",
    "\n",
    "# train_dart_pred = pd.read_csv(\"train_dart_pred.csv\")\n",
    "# test_dart_pred = pd.read_csv(\"test_dart_pred.csv\")\n",
    "\n",
    "# fl_train = pd.read_csv(\"fl_train_11.csv\")\n",
    "# fl_test = pd.read_csv(\"fl_test_11.csv\")\n",
    "\n",
    "# gru_train = pd.read_csv(\"ismale_gru_oof.csv\")\n",
    "# gru_test = pd.read_csv(\"ismale_gru_test.csv\")\n",
    "# gru_train.rename(columns={'is_male':'is_male_gru'}, inplace=True)\n",
    "# gru_test.rename(columns={'is_male':'is_male_gru'}, inplace=True)\n",
    "\n",
    "# gru_train_2 = pd.read_csv(\"ismale_gru_oof (1).csv\")\n",
    "# gru_test_2 = pd.read_csv(\"ismale_gru_test (1).csv\")\n",
    "# gru_train_2.rename(columns={'is_male':'is_male_gru_2'}, inplace=True)\n",
    "# gru_test_2.rename(columns={'is_male':'is_male_gru_2'}, inplace=True)\n",
    "\n",
    "# lstm_train = pd.read_csv(\"ismale_lstm_oof.csv\")\n",
    "# lstm_test = pd.read_csv(\"ismale_lstm_test.csv\")\n",
    "# lstm_train.rename(columns={'is_male':'is_male_lstm'}, inplace=True)\n",
    "# lstm_test.rename(columns={'is_male':'is_male_lstm'}, inplace=True)"
   ]
  },
  {
   "cell_type": "code",
   "execution_count": 5,
   "metadata": {
    "tags": []
   },
   "outputs": [],
   "source": [
    "# oof_age = oof_age.merge(train_dart_pred, on='user_id')\n",
    "# test_age = test_age.merge(test_dart_pred, on='user_id')\n",
    "\n",
    "# oof_age = oof_age.merge(pca_train, on='user_id')\n",
    "# test_age = test_age.merge(pca_test, on='user_id')\n",
    "\n",
    "# oof_age = oof_age.merge(fl_train, on='user_id')\n",
    "# test_age = test_age.merge(fl_test, on='user_id')\n",
    "\n",
    "# oof_age = oof_age.merge(gru_train, on='user_id', how ='left')\n",
    "# test_age = test_age.merge(gru_test, on='user_id', how ='left')\n",
    "\n",
    "# oof_age = oof_age.merge(lstm_train, on='user_id', how ='left')\n",
    "# test_age = test_age.merge(lstm_test, on='user_id', how ='left')\n",
    "\n",
    "# oof_age = oof_age.merge(gru_train_2, on='user_id', how ='left')\n",
    "# test_age = test_age.merge(gru_test_2, on='user_id', how ='left')\n",
    "\n",
    "# oof_age.head()"
   ]
  },
  {
   "cell_type": "code",
   "execution_count": 6,
   "metadata": {
    "tags": []
   },
   "outputs": [],
   "source": [
    "# oof_age = oof_age.merge(target, on='user_id')\n",
    "# oof_age = oof_age[~oof_age['is_male'].isna() &  oof_age['is_male'] != 'NA']\n",
    "# print(len(oof_age), len(test_age))"
   ]
  },
  {
   "cell_type": "code",
   "execution_count": 3,
   "metadata": {
    "tags": []
   },
   "outputs": [
    {
     "data": {
      "text/plain": [
       "(264326, 11)"
      ]
     },
     "execution_count": 3,
     "metadata": {},
     "output_type": "execute_result"
    }
   ],
   "source": [
    "# # oof_age.to_csv(\"b/oof_ismale_st_lvl2.csv\", index=False)\n",
    "# test_age.to_csv(\"b/test_ismale_st_lvl2.csv\", index=False)\n",
    "\n",
    "target = pd.read_parquet(\"public_train.pqt\")\n",
    "oof_age = pd.read_csv(\"cold_male/oof_cold_male_big_automl.csv\")\n",
    "test_age = pd.read_csv(\"cold_male/test_cold_male_big_automl.csv\")\n",
    "oof_age.shape"
   ]
  },
  {
   "cell_type": "code",
   "execution_count": 4,
   "metadata": {
    "tags": []
   },
   "outputs": [
    {
     "data": {
      "text/html": [
       "<div>\n",
       "<style scoped>\n",
       "    .dataframe tbody tr th:only-of-type {\n",
       "        vertical-align: middle;\n",
       "    }\n",
       "\n",
       "    .dataframe tbody tr th {\n",
       "        vertical-align: top;\n",
       "    }\n",
       "\n",
       "    .dataframe thead th {\n",
       "        text-align: right;\n",
       "    }\n",
       "</style>\n",
       "<table border=\"1\" class=\"dataframe\">\n",
       "  <thead>\n",
       "    <tr style=\"text-align: right;\">\n",
       "      <th></th>\n",
       "      <th>user_id</th>\n",
       "      <th>Lvl_0_Pipe_0_Mod_0_LinearL2</th>\n",
       "      <th>Lvl_0_Pipe_1_Mod_0_LightGBM</th>\n",
       "      <th>Lvl_0_Pipe_1_Mod_1_CatBoost</th>\n",
       "      <th>Lvl_0_Pipe_1_Mod_2_Tuned_CatBoost</th>\n",
       "      <th>Lvl_0_Pipe_2_Mod_0_TorchNN_0</th>\n",
       "      <th>Lvl_0_Pipe_2_Mod_1_Tuned_TorchNN_resnet_tuned_1</th>\n",
       "      <th>Lvl_0_Pipe_2_Mod_2_TorchNN_resnet_2</th>\n",
       "      <th>Lvl_0_Pipe_2_Mod_3_TorchNN_dense_3</th>\n",
       "      <th>Lvl_0_Pipe_2_Mod_4_TorchNN_denselight_4</th>\n",
       "      <th>Lvl_0_Pipe_2_Mod_5_Tuned_TorchNN_denselight_tuned_5</th>\n",
       "    </tr>\n",
       "  </thead>\n",
       "  <tbody>\n",
       "    <tr>\n",
       "      <th>0</th>\n",
       "      <td>6</td>\n",
       "      <td>0.495247</td>\n",
       "      <td>0.470335</td>\n",
       "      <td>0.474907</td>\n",
       "      <td>0.477269</td>\n",
       "      <td>0.512303</td>\n",
       "      <td>0.473377</td>\n",
       "      <td>0.455029</td>\n",
       "      <td>0.462456</td>\n",
       "      <td>0.459163</td>\n",
       "      <td>0.463749</td>\n",
       "    </tr>\n",
       "    <tr>\n",
       "      <th>1</th>\n",
       "      <td>7</td>\n",
       "      <td>0.719520</td>\n",
       "      <td>0.755103</td>\n",
       "      <td>0.761836</td>\n",
       "      <td>0.774084</td>\n",
       "      <td>0.617500</td>\n",
       "      <td>0.656957</td>\n",
       "      <td>0.696093</td>\n",
       "      <td>0.684056</td>\n",
       "      <td>0.698320</td>\n",
       "      <td>0.716735</td>\n",
       "    </tr>\n",
       "    <tr>\n",
       "      <th>2</th>\n",
       "      <td>9</td>\n",
       "      <td>0.506794</td>\n",
       "      <td>0.485184</td>\n",
       "      <td>0.470617</td>\n",
       "      <td>0.471027</td>\n",
       "      <td>0.454835</td>\n",
       "      <td>0.510247</td>\n",
       "      <td>0.495137</td>\n",
       "      <td>0.489315</td>\n",
       "      <td>0.504273</td>\n",
       "      <td>0.508345</td>\n",
       "    </tr>\n",
       "    <tr>\n",
       "      <th>3</th>\n",
       "      <td>10</td>\n",
       "      <td>0.546880</td>\n",
       "      <td>0.575170</td>\n",
       "      <td>0.564337</td>\n",
       "      <td>0.560174</td>\n",
       "      <td>0.482871</td>\n",
       "      <td>0.547139</td>\n",
       "      <td>0.538659</td>\n",
       "      <td>0.537895</td>\n",
       "      <td>0.537746</td>\n",
       "      <td>0.568955</td>\n",
       "    </tr>\n",
       "    <tr>\n",
       "      <th>4</th>\n",
       "      <td>11</td>\n",
       "      <td>0.560733</td>\n",
       "      <td>0.563391</td>\n",
       "      <td>0.602668</td>\n",
       "      <td>0.627738</td>\n",
       "      <td>0.498907</td>\n",
       "      <td>0.541253</td>\n",
       "      <td>0.558168</td>\n",
       "      <td>0.550799</td>\n",
       "      <td>0.556547</td>\n",
       "      <td>0.541747</td>\n",
       "    </tr>\n",
       "  </tbody>\n",
       "</table>\n",
       "</div>"
      ],
      "text/plain": [
       "   user_id  Lvl_0_Pipe_0_Mod_0_LinearL2  Lvl_0_Pipe_1_Mod_0_LightGBM  \\\n",
       "0        6                     0.495247                     0.470335   \n",
       "1        7                     0.719520                     0.755103   \n",
       "2        9                     0.506794                     0.485184   \n",
       "3       10                     0.546880                     0.575170   \n",
       "4       11                     0.560733                     0.563391   \n",
       "\n",
       "   Lvl_0_Pipe_1_Mod_1_CatBoost  Lvl_0_Pipe_1_Mod_2_Tuned_CatBoost  \\\n",
       "0                     0.474907                           0.477269   \n",
       "1                     0.761836                           0.774084   \n",
       "2                     0.470617                           0.471027   \n",
       "3                     0.564337                           0.560174   \n",
       "4                     0.602668                           0.627738   \n",
       "\n",
       "   Lvl_0_Pipe_2_Mod_0_TorchNN_0  \\\n",
       "0                      0.512303   \n",
       "1                      0.617500   \n",
       "2                      0.454835   \n",
       "3                      0.482871   \n",
       "4                      0.498907   \n",
       "\n",
       "   Lvl_0_Pipe_2_Mod_1_Tuned_TorchNN_resnet_tuned_1  \\\n",
       "0                                         0.473377   \n",
       "1                                         0.656957   \n",
       "2                                         0.510247   \n",
       "3                                         0.547139   \n",
       "4                                         0.541253   \n",
       "\n",
       "   Lvl_0_Pipe_2_Mod_2_TorchNN_resnet_2  Lvl_0_Pipe_2_Mod_3_TorchNN_dense_3  \\\n",
       "0                             0.455029                            0.462456   \n",
       "1                             0.696093                            0.684056   \n",
       "2                             0.495137                            0.489315   \n",
       "3                             0.538659                            0.537895   \n",
       "4                             0.558168                            0.550799   \n",
       "\n",
       "   Lvl_0_Pipe_2_Mod_4_TorchNN_denselight_4  \\\n",
       "0                                 0.459163   \n",
       "1                                 0.698320   \n",
       "2                                 0.504273   \n",
       "3                                 0.537746   \n",
       "4                                 0.556547   \n",
       "\n",
       "   Lvl_0_Pipe_2_Mod_5_Tuned_TorchNN_denselight_tuned_5  \n",
       "0                                           0.463749    \n",
       "1                                           0.716735    \n",
       "2                                           0.508345    \n",
       "3                                           0.568955    \n",
       "4                                           0.541747    "
      ]
     },
     "execution_count": 4,
     "metadata": {},
     "output_type": "execute_result"
    }
   ],
   "source": [
    "test_age.head()"
   ]
  },
  {
   "cell_type": "code",
   "execution_count": 5,
   "metadata": {
    "tags": []
   },
   "outputs": [
    {
     "data": {
      "text/plain": [
       "(264326, 13)"
      ]
     },
     "execution_count": 5,
     "metadata": {},
     "output_type": "execute_result"
    }
   ],
   "source": [
    "oof_age = oof_age.merge(target, on='user_id')\n",
    "oof_age.shape"
   ]
  },
  {
   "cell_type": "code",
   "execution_count": 5,
   "metadata": {
    "tags": []
   },
   "outputs": [],
   "source": [
    "# train = train[~train['is_male'].isna() & (train['is_male'].apply(lambda x: x != 'NA'))]\n",
    "# train['is_male'] = train['is_male'].astype('int')\n",
    "# print(len(train))"
   ]
  },
  {
   "cell_type": "code",
   "execution_count": 7,
   "metadata": {
    "tags": []
   },
   "outputs": [
    {
     "name": "stdout",
     "output_type": "stream",
     "text": [
      "[19:53:20] Stdout logging level is INFO.\n",
      "[19:53:20] Copying TaskTimer may affect the parent PipelineTimer, so copy will create new unlimited TaskTimer\n",
      "[19:53:20] Task: binary\n",
      "\n",
      "[19:53:20] Start automl preset with listed constraints:\n",
      "[19:53:20] - time: 5400000.00 seconds\n",
      "[19:53:20] - CPU: 24 cores\n",
      "[19:53:20] - memory: 16 GB\n",
      "\n",
      "[19:53:20] \u001b[1mTrain data shape: (264326, 13)\u001b[0m\n",
      "\n",
      "[19:53:22] Layer \u001b[1m1\u001b[0m train process start. Time left 5399998.07 secs\n",
      "[19:53:22] Start fitting \u001b[1mLvl_0_Pipe_0_Mod_0_LinearL2\u001b[0m ...\n",
      "[19:53:25] Fitting \u001b[1mLvl_0_Pipe_0_Mod_0_LinearL2\u001b[0m finished. score = \u001b[1m0.6221888753508898\u001b[0m\n",
      "[19:53:25] \u001b[1mLvl_0_Pipe_0_Mod_0_LinearL2\u001b[0m fitting and predicting completed\n",
      "[19:53:25] Time left 5399995.05 secs\n",
      "\n",
      "[19:53:25] \u001b[1mLayer 1 training completed.\u001b[0m\n",
      "\n",
      "[19:53:25] \u001b[1mAutoml preset training completed in 4.95 seconds\u001b[0m\n",
      "\n",
      "[19:53:25] Model description:\n",
      "Final prediction for new objects (level 0) = \n",
      "\t 1.00000 * (10 averaged models Lvl_0_Pipe_0_Mod_0_LinearL2) \n",
      "\n"
     ]
    }
   ],
   "source": [
    "import warnings\n",
    "warnings.filterwarnings(\"ignore\")\n",
    "warnings.simplefilter(action='ignore', category=FutureWarning)\n",
    "import pandas as pd\n",
    "from sklearn.metrics import f1_score\n",
    "from sklearn.metrics import roc_auc_score\n",
    "from lightautoml.automl.presets.tabular_presets import TabularAutoML, TabularUtilizedAutoML\n",
    "from lightautoml.automl.presets.text_presets import TabularNLPAutoML\n",
    "from lightautoml.tasks import Task\n",
    "import time\n",
    "\n",
    "\n",
    "roles = {'target': 'is_male',\n",
    "                 'drop': ['user_id', 'index', \"age\"]}\n",
    "default_nn_params = {\n",
    "    \"n_epochs\": 200,\n",
    "}\n",
    "default_nn_params_2 = {\n",
    "    \"n_epochs\": 100,\n",
    "}\n",
    "automl = TabularAutoML(\n",
    "    task = Task(name='binary'),\n",
    "    cpu_limit = 24,\n",
    "    timeout=3600*1500,\n",
    "    gpu_ids='0',\n",
    "    debug=True,\n",
    "    general_params = {\"use_algos\": [[\"linear_l2\"]]},\n",
    "    nn_pipeline_params = {\"use_te\": True,  \"max_intersection_depth\": 0},\n",
    "    reader_params = {'cv': 10, 'random_state': 44},\n",
    ")\n",
    "start_time = time.time()\n",
    "oof_pred = automl.fit_predict(\n",
    "        oof_age,\n",
    "        roles=roles,\n",
    "        verbose = 1\n",
    "    )\n",
    "end_time = time.time()"
   ]
  },
  {
   "cell_type": "code",
   "execution_count": 8,
   "metadata": {
    "tags": []
   },
   "outputs": [
    {
     "name": "stdout",
     "output_type": "stream",
     "text": [
      "spend time: 4.977286338806152\n",
      "Final prediction for new objects (level 0) = \n",
      "\t 1.00000 * (10 averaged models Lvl_0_Pipe_0_Mod_0_LinearL2) \n"
     ]
    }
   ],
   "source": [
    "print(f\"spend time: {end_time - start_time}\")\n",
    "print(automl.create_model_str_desc())"
   ]
  },
  {
   "cell_type": "code",
   "execution_count": 9,
   "metadata": {
    "tags": []
   },
   "outputs": [
    {
     "data": {
      "text/html": [
       "<div>\n",
       "<style scoped>\n",
       "    .dataframe tbody tr th:only-of-type {\n",
       "        vertical-align: middle;\n",
       "    }\n",
       "\n",
       "    .dataframe tbody tr th {\n",
       "        vertical-align: top;\n",
       "    }\n",
       "\n",
       "    .dataframe thead th {\n",
       "        text-align: right;\n",
       "    }\n",
       "</style>\n",
       "<table border=\"1\" class=\"dataframe\">\n",
       "  <thead>\n",
       "    <tr style=\"text-align: right;\">\n",
       "      <th></th>\n",
       "      <th>user_id</th>\n",
       "      <th>is_male</th>\n",
       "    </tr>\n",
       "  </thead>\n",
       "  <tbody>\n",
       "    <tr>\n",
       "      <th>0</th>\n",
       "      <td>6</td>\n",
       "      <td>0.541119</td>\n",
       "    </tr>\n",
       "    <tr>\n",
       "      <th>1</th>\n",
       "      <td>7</td>\n",
       "      <td>0.253902</td>\n",
       "    </tr>\n",
       "    <tr>\n",
       "      <th>2</th>\n",
       "      <td>9</td>\n",
       "      <td>0.516075</td>\n",
       "    </tr>\n",
       "    <tr>\n",
       "      <th>3</th>\n",
       "      <td>10</td>\n",
       "      <td>0.424122</td>\n",
       "    </tr>\n",
       "    <tr>\n",
       "      <th>4</th>\n",
       "      <td>11</td>\n",
       "      <td>0.416187</td>\n",
       "    </tr>\n",
       "  </tbody>\n",
       "</table>\n",
       "</div>"
      ],
      "text/plain": [
       "   user_id   is_male\n",
       "0        6  0.541119\n",
       "1        7  0.253902\n",
       "2        9  0.516075\n",
       "3       10  0.424122\n",
       "4       11  0.416187"
      ]
     },
     "execution_count": 9,
     "metadata": {},
     "output_type": "execute_result"
    }
   ],
   "source": [
    "test_pred_ismale = automl.predict(test_age)\n",
    "sub = pd.DataFrame()\n",
    "sub['user_id'] = test_age.user_id\n",
    "sub['is_male'] = test_pred_ismale.data[: ,0]\n",
    "sub.sort_values(\"user_id\", inplace=True)\n",
    "sub.to_csv(\"stack_lvl2_ismale_final_cold.csv\", index=False)\n",
    "\n",
    "sub.head()"
   ]
  },
  {
   "cell_type": "code",
   "execution_count": 15,
   "metadata": {
    "tags": []
   },
   "outputs": [],
   "source": [
    "# 0.8985054971831067 final"
   ]
  },
  {
   "cell_type": "code",
   "execution_count": null,
   "metadata": {},
   "outputs": [],
   "source": []
  }
 ],
 "metadata": {
  "kernelspec": {
   "display_name": "Python 3 (ipykernel)",
   "language": "python",
   "name": "python3"
  },
  "language_info": {
   "codemirror_mode": {
    "name": "ipython",
    "version": 3
   },
   "file_extension": ".py",
   "mimetype": "text/x-python",
   "name": "python",
   "nbconvert_exporter": "python",
   "pygments_lexer": "ipython3",
   "version": "3.8.16"
  }
 },
 "nbformat": 4,
 "nbformat_minor": 4
}
