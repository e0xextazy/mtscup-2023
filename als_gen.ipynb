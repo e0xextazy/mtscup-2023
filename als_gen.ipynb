{
 "cells": [
  {
   "cell_type": "code",
   "execution_count": 1,
   "id": "28740129",
   "metadata": {
    "tags": []
   },
   "outputs": [],
   "source": [
    "import sys\n",
    "import os\n",
    "import warnings\n",
    "os.environ['OPENBLAS_NUM_THREADS'] = '1'\n",
    "warnings.filterwarnings('ignore')"
   ]
  },
  {
   "cell_type": "code",
   "execution_count": 2,
   "id": "b907cd02",
   "metadata": {
    "tags": []
   },
   "outputs": [],
   "source": [
    "import pandas as pd\n",
    "import numpy as np\n",
    "import time\n",
    "import pyarrow.parquet as pq\n",
    "import scipy\n",
    "import implicit\n",
    "import bisect\n",
    "import sklearn.metrics as m\n",
    "from catboost import CatBoostClassifier, CatBoostRegressor, Pool\n",
    "from sklearn.model_selection import train_test_split\n",
    "from sklearn.calibration import calibration_curve, CalibratedClassifierCV\n",
    "from sklearn.metrics import f1_score"
   ]
  },
  {
   "cell_type": "code",
   "execution_count": 3,
   "id": "e762eacd",
   "metadata": {
    "tags": []
   },
   "outputs": [],
   "source": [
    "def age_bucket(x):\n",
    "    return bisect.bisect_left([0,25,35,45,55,65], x)"
   ]
  },
  {
   "cell_type": "code",
   "execution_count": 4,
   "id": "335226b7",
   "metadata": {
    "tags": []
   },
   "outputs": [],
   "source": [
    "data = pq.read_table('competition_data_final_pqt')"
   ]
  },
  {
   "cell_type": "code",
   "execution_count": 5,
   "id": "3ff50f46",
   "metadata": {
    "tags": []
   },
   "outputs": [
    {
     "data": {
      "text/html": [
       "<div>\n",
       "<style scoped>\n",
       "    .dataframe tbody tr th:only-of-type {\n",
       "        vertical-align: middle;\n",
       "    }\n",
       "\n",
       "    .dataframe tbody tr th {\n",
       "        vertical-align: top;\n",
       "    }\n",
       "\n",
       "    .dataframe thead th {\n",
       "        text-align: right;\n",
       "    }\n",
       "</style>\n",
       "<table border=\"1\" class=\"dataframe\">\n",
       "  <thead>\n",
       "    <tr style=\"text-align: right;\">\n",
       "      <th></th>\n",
       "      <th>age</th>\n",
       "      <th>is_male</th>\n",
       "      <th>user_id</th>\n",
       "    </tr>\n",
       "  </thead>\n",
       "  <tbody>\n",
       "    <tr>\n",
       "      <th>350459</th>\n",
       "      <td>31.0</td>\n",
       "      <td>1</td>\n",
       "      <td>350459</td>\n",
       "    </tr>\n",
       "    <tr>\n",
       "      <th>188276</th>\n",
       "      <td>35.0</td>\n",
       "      <td>1</td>\n",
       "      <td>188276</td>\n",
       "    </tr>\n",
       "    <tr>\n",
       "      <th>99002</th>\n",
       "      <td>41.0</td>\n",
       "      <td>0</td>\n",
       "      <td>99002</td>\n",
       "    </tr>\n",
       "    <tr>\n",
       "      <th>155506</th>\n",
       "      <td>33.0</td>\n",
       "      <td>0</td>\n",
       "      <td>155506</td>\n",
       "    </tr>\n",
       "    <tr>\n",
       "      <th>213873</th>\n",
       "      <td>54.0</td>\n",
       "      <td>0</td>\n",
       "      <td>213873</td>\n",
       "    </tr>\n",
       "  </tbody>\n",
       "</table>\n",
       "</div>"
      ],
      "text/plain": [
       "         age is_male  user_id\n",
       "350459  31.0       1   350459\n",
       "188276  35.0       1   188276\n",
       "99002   41.0       0    99002\n",
       "155506  33.0       0   155506\n",
       "213873  54.0       0   213873"
      ]
     },
     "execution_count": 5,
     "metadata": {},
     "output_type": "execute_result"
    }
   ],
   "source": [
    "targets = pq.read_table('public_train.pqt').to_pandas()\n",
    "targets.head()"
   ]
  },
  {
   "cell_type": "markdown",
   "id": "d41be6c8-3dc1-4883-a050-2518f182995d",
   "metadata": {},
   "source": [
    "# userid_urlhost_requestcnt_sum"
   ]
  },
  {
   "cell_type": "code",
   "execution_count": 6,
   "id": "f6f543bf",
   "metadata": {
    "tags": []
   },
   "outputs": [
    {
     "name": "stdout",
     "output_type": "stream",
     "text": [
      "{'factors': 256, 'iterations': 40}\n",
      "0.4030627652108856\n"
     ]
    }
   ],
   "source": [
    "data_agg = data.select(['user_id', 'url_host', 'request_cnt']).group_by(['user_id', 'url_host']).aggregate([('request_cnt', \"sum\")])\n",
    "\n",
    "item_set = set(data_agg.select(['url_host']).to_pandas()['url_host'])\n",
    "item_dict = {url: idurl for url, idurl in zip(item_set, range(len(item_set)))}\n",
    "\n",
    "usr_set = set(data_agg.select(['user_id']).to_pandas()['user_id'])\n",
    "usr_dict = {usr: user_id for usr, user_id in zip(usr_set, range(len(usr_set)))}\n",
    "inv_usr_map = {v: k for k, v in usr_dict.items()}\n",
    "\n",
    "values = np.array(data_agg.select(['request_cnt_sum']).to_pandas()['request_cnt_sum'])\n",
    "rows = np.array(data_agg.select(['user_id']).to_pandas()['user_id'].map(usr_dict))\n",
    "cols = np.array(data_agg.select(['url_host']).to_pandas()['url_host'].map(item_dict))\n",
    "mat = scipy.sparse.coo_matrix((values, (rows, cols)), shape=(rows.max() + 1, cols.max() + 1))\n",
    "\n",
    "max_f1 = 0\n",
    "for f in [64, 128, 256]:\n",
    "    for i in [30, 40, 50]:\n",
    "        model = implicit.als.AlternatingLeastSquares(factors=f, \n",
    "                                                 iterations=i, \n",
    "                                                 regularization=0.01, \n",
    "                                                 random_state=42,\n",
    "                                                 alpha=40, \n",
    "                                                 use_gpu=False\n",
    "                                                )\n",
    "        model.fit(mat, show_progress=False)\n",
    "        u_factors = model.user_factors \n",
    "        i_factors = model.item_factors\n",
    "        \n",
    "        usr_emb = pd.DataFrame(u_factors)\n",
    "        usr_emb['user_id'] = usr_emb.index.map(inv_usr_map)\n",
    "        df = targets.merge(usr_emb, how = 'inner', on = ['user_id'])\n",
    "        df = df[df['age'] != 'NA']\n",
    "        df = df.dropna()\n",
    "        df['age'] = df['age'].map(age_bucket)\n",
    "        \n",
    "        x_train, x_test, y_train, y_test = train_test_split(df.drop(['user_id', 'age', 'is_male'], axis = 1), df['age'], test_size = 0.33, random_state = 42)\n",
    "        clf = CatBoostClassifier(task_type=\"GPU\", devices='0:1')\n",
    "        clf.fit(x_train, y_train, verbose = False)\n",
    "        y_pred = clf.predict(x_test)\n",
    "        f1 = f1_score(y_test, y_pred, average='weighted')\n",
    "        \n",
    "        if max_f1 < f1:\n",
    "            max_f1 = f1\n",
    "            best_params = {'factors': f, 'iterations': i}\n",
    "            \n",
    "print(best_params)\n",
    "print(max_f1)\n",
    "model = implicit.als.AlternatingLeastSquares(factors=best_params['factors'], \n",
    "                                                 iterations=best_params['iterations'], \n",
    "                                                 regularization=0.01, \n",
    "                                                 random_state=42,\n",
    "                                                 alpha=40, \n",
    "                                                 use_gpu=False\n",
    "                                                )\n",
    "model.fit(mat, show_progress=False)\n",
    "u_factors = model.user_factors\n",
    "usr_emb = pd.DataFrame(u_factors, columns=[f\"userid_urlhost_requestcnt_sum_{i}\" for i in range(u_factors.shape[1])])\n",
    "usr_emb['user_id'] = usr_emb.index.map(inv_usr_map)\n",
    "usr_emb.to_csv('als/userid_urlhost_requestcnt_sum.csv', index=False)"
   ]
  },
  {
   "cell_type": "markdown",
   "id": "0ac8744b-f718-4abe-94c8-6df21ba180ea",
   "metadata": {},
   "source": [
    "# userid_urlhost_date_count"
   ]
  },
  {
   "cell_type": "code",
   "execution_count": 7,
   "id": "db94af70-efc4-42de-8e4f-a8ba91940e2f",
   "metadata": {
    "tags": []
   },
   "outputs": [
    {
     "name": "stdout",
     "output_type": "stream",
     "text": [
      "{'factors': 256, 'iterations': 40}\n",
      "0.409860708444737\n"
     ]
    }
   ],
   "source": [
    "data_agg = data.select(['user_id', 'url_host', 'date']).group_by(['user_id', 'url_host']).aggregate([('date', \"count\")])\n",
    "\n",
    "item_set = set(data_agg.select(['url_host']).to_pandas()['url_host'])\n",
    "item_dict = {url: idurl for url, idurl in zip(item_set, range(len(item_set)))}\n",
    "\n",
    "usr_set = set(data_agg.select(['user_id']).to_pandas()['user_id'])\n",
    "usr_dict = {usr: user_id for usr, user_id in zip(usr_set, range(len(usr_set)))}\n",
    "inv_usr_map = {v: k for k, v in usr_dict.items()}\n",
    "\n",
    "values = np.array(data_agg.select(['date_count']).to_pandas()['date_count'])\n",
    "rows = np.array(data_agg.select(['user_id']).to_pandas()['user_id'].map(usr_dict))\n",
    "cols = np.array(data_agg.select(['url_host']).to_pandas()['url_host'].map(item_dict))\n",
    "mat = scipy.sparse.coo_matrix((values, (rows, cols)), shape=(rows.max() + 1, cols.max() + 1))\n",
    "\n",
    "max_f1 = 0\n",
    "for f in [64, 128, 256]:\n",
    "    for i in [30, 40, 50]:\n",
    "        model = implicit.als.AlternatingLeastSquares(factors=f, \n",
    "                                                 iterations=i, \n",
    "                                                 regularization=0.01, \n",
    "                                                 random_state=42,\n",
    "                                                 alpha=40, \n",
    "                                                 use_gpu=False\n",
    "                                                )\n",
    "        model.fit(mat, show_progress=False)\n",
    "        u_factors = model.user_factors \n",
    "        i_factors = model.item_factors\n",
    "        \n",
    "        usr_emb = pd.DataFrame(u_factors)\n",
    "        usr_emb['user_id'] = usr_emb.index.map(inv_usr_map)\n",
    "        df = targets.merge(usr_emb, how = 'inner', on = ['user_id'])\n",
    "        df = df[df['age'] != 'NA']\n",
    "        df = df.dropna()\n",
    "        df['age'] = df['age'].map(age_bucket)\n",
    "        \n",
    "        x_train, x_test, y_train, y_test = train_test_split(df.drop(['user_id', 'age', 'is_male'], axis = 1), df['age'], test_size = 0.33, random_state = 42)\n",
    "        clf = CatBoostClassifier(task_type=\"GPU\", devices='0:1')\n",
    "        clf.fit(x_train, y_train, verbose = False)\n",
    "        y_pred = clf.predict(x_test)\n",
    "        f1 = f1_score(y_test, y_pred, average='weighted')\n",
    "        \n",
    "        if max_f1 < f1:\n",
    "            max_f1 = f1\n",
    "            best_params = {'factors': f, 'iterations': i}\n",
    "            \n",
    "print(best_params)\n",
    "print(max_f1)\n",
    "model = implicit.als.AlternatingLeastSquares(factors=best_params['factors'], \n",
    "                                                 iterations=best_params['iterations'], \n",
    "                                                 regularization=0.01, \n",
    "                                                 random_state=42,\n",
    "                                                 alpha=40, \n",
    "                                                 use_gpu=False\n",
    "                                                )\n",
    "model.fit(mat, show_progress=False)\n",
    "u_factors = model.user_factors\n",
    "usr_emb = pd.DataFrame(u_factors, columns=[f\"userid_urlhost_date_count_{i}\" for i in range(u_factors.shape[1])])\n",
    "usr_emb['user_id'] = usr_emb.index.map(inv_usr_map)\n",
    "usr_emb.to_csv('als/userid_urlhost_date_count.csv', index=False)"
   ]
  },
  {
   "cell_type": "markdown",
   "id": "3f13abc8-a78c-4a18-9ec6-38965055647f",
   "metadata": {},
   "source": [
    "# userid_regionname_requestcnt_count"
   ]
  },
  {
   "cell_type": "code",
   "execution_count": null,
   "id": "7f8017e2-3092-4932-a49a-0e429b2f9e49",
   "metadata": {
    "tags": []
   },
   "outputs": [
    {
     "name": "stdout",
     "output_type": "stream",
     "text": [
      "{'factors': 64, 'iterations': 40}\n",
      "0.24179573107470356\n"
     ]
    }
   ],
   "source": [
    "data_agg = data.select(['user_id', 'region_name', 'request_cnt']).group_by(['user_id', 'region_name']).aggregate([('request_cnt', \"count\")])\n",
    "\n",
    "item_set = set(data_agg.select(['region_name']).to_pandas()['region_name'])\n",
    "item_dict = {url: idurl for url, idurl in zip(item_set, range(len(item_set)))}\n",
    "\n",
    "usr_set = set(data_agg.select(['user_id']).to_pandas()['user_id'])\n",
    "usr_dict = {usr: user_id for usr, user_id in zip(usr_set, range(len(usr_set)))}\n",
    "inv_usr_map = {v: k for k, v in usr_dict.items()}\n",
    "\n",
    "values = np.array(data_agg.select(['request_cnt_count']).to_pandas()['request_cnt_count'])\n",
    "rows = np.array(data_agg.select(['user_id']).to_pandas()['user_id'].map(usr_dict))\n",
    "cols = np.array(data_agg.select(['region_name']).to_pandas()['region_name'].map(item_dict))\n",
    "mat = scipy.sparse.coo_matrix((values, (rows, cols)), shape=(rows.max() + 1, cols.max() + 1))\n",
    "\n",
    "max_f1 = 0\n",
    "for f in [64, 128, 256]:\n",
    "    for i in [30, 40, 50]:\n",
    "        model = implicit.als.AlternatingLeastSquares(factors=f, \n",
    "                                                 iterations=i, \n",
    "                                                 regularization=0.01, \n",
    "                                                 random_state=42,\n",
    "                                                 alpha=40, \n",
    "                                                 use_gpu=False\n",
    "                                                )\n",
    "        model.fit(mat, show_progress=False)\n",
    "        u_factors = model.user_factors \n",
    "        i_factors = model.item_factors\n",
    "        \n",
    "        usr_emb = pd.DataFrame(u_factors)\n",
    "        usr_emb['user_id'] = usr_emb.index.map(inv_usr_map)\n",
    "        df = targets.merge(usr_emb, how = 'inner', on = ['user_id'])\n",
    "        df = df[df['age'] != 'NA']\n",
    "        df = df.dropna()\n",
    "        df['age'] = df['age'].map(age_bucket)\n",
    "        \n",
    "        x_train, x_test, y_train, y_test = train_test_split(df.drop(['user_id', 'age', 'is_male'], axis = 1), df['age'], test_size = 0.33, random_state = 42)\n",
    "        clf = CatBoostClassifier(task_type=\"GPU\", devices='0:1')\n",
    "        clf.fit(x_train, y_train, verbose = False)\n",
    "        y_pred = clf.predict(x_test)\n",
    "        f1 = f1_score(y_test, y_pred, average='weighted')\n",
    "        \n",
    "        if max_f1 < f1:\n",
    "            max_f1 = f1\n",
    "            best_params = {'factors': f, 'iterations': i}\n",
    "            \n",
    "print(best_params)\n",
    "print(max_f1)\n",
    "model = implicit.als.AlternatingLeastSquares(factors=best_params['factors'], \n",
    "                                                 iterations=best_params['iterations'], \n",
    "                                                 regularization=0.01, \n",
    "                                                 random_state=42,\n",
    "                                                 alpha=40, \n",
    "                                                 use_gpu=False\n",
    "                                                )\n",
    "model.fit(mat, show_progress=False)\n",
    "u_factors = model.user_factors\n",
    "usr_emb = pd.DataFrame(u_factors, columns=[f\"userid_regionname_requestcnt_count_{i}\" for i in range(u_factors.shape[1])])\n",
    "usr_emb['user_id'] = usr_emb.index.map(inv_usr_map)\n",
    "usr_emb.to_csv('als/userid_regionname_requestcnt_count.csv', index=False)"
   ]
  },
  {
   "cell_type": "markdown",
   "id": "88990f04-3d29-41a4-9eb3-41074f664928",
   "metadata": {},
   "source": [
    "# part_of_day"
   ]
  },
  {
   "cell_type": "code",
   "execution_count": 78,
   "id": "e336da67-1343-40ed-955a-24baa89a01bf",
   "metadata": {
    "tags": []
   },
   "outputs": [],
   "source": [
    "import pyarrow as pa\n",
    "\n",
    "part_of_day_agg = pa.Table.from_pandas(pd.get_dummies(data.select(['user_id', 'part_of_day']).\\\n",
    "    to_pandas(), columns = ['part_of_day'])).\\\n",
    "    group_by(['user_id']).aggregate([('part_of_day_day', 'sum'), ('part_of_day_evening', 'sum'), ('part_of_day_morning', 'sum'), ('part_of_day_night', 'sum')])\n",
    "part_of_day_agg = part_of_day_agg.to_pandas()\n",
    "part_of_day_agg.to_csv(\"als/partofday_sum.csv\", index=False)"
   ]
  },
  {
   "cell_type": "code",
   "execution_count": null,
   "id": "8686c440-d308-4580-90f4-0a5b518b85fa",
   "metadata": {},
   "outputs": [],
   "source": []
  }
 ],
 "metadata": {
  "kernelspec": {
   "display_name": "Python 3 (ipykernel)",
   "language": "python",
   "name": "python3"
  },
  "language_info": {
   "codemirror_mode": {
    "name": "ipython",
    "version": 3
   },
   "file_extension": ".py",
   "mimetype": "text/x-python",
   "name": "python",
   "nbconvert_exporter": "python",
   "pygments_lexer": "ipython3",
   "version": "3.8.16"
  }
 },
 "nbformat": 4,
 "nbformat_minor": 5
}
