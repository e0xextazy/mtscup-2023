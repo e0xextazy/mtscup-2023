{
 "cells": [
  {
   "cell_type": "code",
   "execution_count": 16,
   "metadata": {},
   "outputs": [],
   "source": [
    "# !pip uninstall lightautoml -y\n",
    "# !pip install -U --user LightAutoML-0.3.7.4-py3-none-any.whl >> none\n",
    "# !pip install gensim"
   ]
  },
  {
   "cell_type": "code",
   "execution_count": 17,
   "metadata": {
    "tags": []
   },
   "outputs": [],
   "source": [
    "# !pip install -U pytorch_tabular"
   ]
  },
  {
   "cell_type": "code",
   "execution_count": 3,
   "metadata": {
    "tags": []
   },
   "outputs": [],
   "source": [
    "# !pip install transformers"
   ]
  },
  {
   "cell_type": "code",
   "execution_count": 4,
   "metadata": {},
   "outputs": [],
   "source": [
    "# !pip uninstall torch -y\n",
    "# !pip install torch"
   ]
  },
  {
   "cell_type": "code",
   "execution_count": 5,
   "metadata": {
    "tags": []
   },
   "outputs": [],
   "source": [
    "import numpy as np # linear algebra\n",
    "import pandas as pd # data processing, CSV file I/O (e.g. pd.read_csv)\n",
    "from tqdm.notebook import tqdm\n",
    "import copy\n",
    "import gc\n",
    "import os\n",
    "import time\n",
    "import lightautoml"
   ]
  },
  {
   "cell_type": "code",
   "execution_count": 6,
   "metadata": {
    "tags": []
   },
   "outputs": [
    {
     "name": "stdout",
     "output_type": "stream",
     "text": [
      "270000\n"
     ]
    }
   ],
   "source": [
    "train = pd.read_csv(\"tr.csv\")#[:10000]\n",
    "test = pd.read_csv(\"te.csv\")#[:1000]\n",
    "test.sort_values(\"user_id\", inplace=True)\n",
    "\n",
    "print(len(train))"
   ]
  },
  {
   "cell_type": "code",
   "execution_count": 7,
   "metadata": {
    "tags": []
   },
   "outputs": [],
   "source": [
    "# train = train[list(train.columns)[0: 100] + [\"age\"]]"
   ]
  },
  {
   "cell_type": "code",
   "execution_count": 8,
   "metadata": {},
   "outputs": [],
   "source": [
    "# af_cols = list(pd.read_csv(\"af (1).csv\", nrows=1).columns)[:-1]\n",
    "# af_cols = [col for col in af_cols if col in train.columns]\n",
    "\n",
    "# train.drop(af_cols, axis=1, inplace=True)\n",
    "# test.drop(af_cols, axis=1, inplace=True)\n",
    "# af = pd.read_csv(\"af (1).csv\")\n",
    "# train = train.merge(af, how='left', on='user_id')\n",
    "# test = test.merge(af, how='left', on='user_id')"
   ]
  },
  {
   "cell_type": "code",
   "execution_count": 12,
   "metadata": {
    "tags": []
   },
   "outputs": [
    {
     "name": "stdout",
     "output_type": "stream",
     "text": [
      "261570\n"
     ]
    }
   ],
   "source": [
    "train['age'] = train['age'].astype('int')\n",
    "train = train[~((train.url_host_fq == 1) & (train['url_host last'] == train['url_host first']))]\n",
    "train = train[~train['is_male'].isna() & (train['is_male'].apply(lambda x: x != 'NA'))]\n",
    "print(len(train))"
   ]
  },
  {
   "cell_type": "code",
   "execution_count": 13,
   "metadata": {},
   "outputs": [],
   "source": [
    "# gate = GatedAdditiveTreesBackbone(num_trees=10)"
   ]
  },
  {
   "cell_type": "code",
   "execution_count": null,
   "metadata": {
    "tags": []
   },
   "outputs": [
    {
     "name": "stdout",
     "output_type": "stream",
     "text": [
      "[09:33:09] Stdout logging level is INFO.\n",
      "[09:33:09] Task: binary\n",
      "\n",
      "[09:33:09] Start automl preset with listed constraints:\n",
      "[09:33:09] - time: 172800.00 seconds\n",
      "[09:33:09] - CPU: 256 cores\n",
      "[09:33:09] - memory: 16 GB\n",
      "\n",
      "[09:33:09] \u001b[1mTrain data shape: (261570, 3431)\u001b[0m\n",
      "\n",
      "[09:35:35] Layer \u001b[1m1\u001b[0m train process start. Time left 172654.37 secs\n"
     ]
    }
   ],
   "source": [
    "import warnings\n",
    "warnings.filterwarnings(\"ignore\")\n",
    "warnings.simplefilter(action='ignore', category=FutureWarning)\n",
    "import pandas as pd\n",
    "from sklearn.metrics import f1_score\n",
    "from sklearn.metrics import roc_auc_score\n",
    "from lightautoml.automl.presets.tabular_presets import TabularAutoML, TabularUtilizedAutoML\n",
    "from lightautoml.automl.presets.text_presets import TabularNLPAutoML\n",
    "from lightautoml.tasks import Task\n",
    "import time\n",
    "\n",
    "\n",
    "roles = {'target': 'is_male',\n",
    "                 'drop': ['user_id', 'index', \"age\"]}\n",
    "automl = TabularAutoML(\n",
    "    task = Task(name='binary'),\n",
    "    cpu_limit = 256,\n",
    "    timeout=3600*48,\n",
    "    gpu_ids='0',\n",
    "    debug=True,\n",
    "    general_params = {\"use_algos\": [[\"lgb\"]]},\n",
    "    reader_params = {'cv': 10, 'random_state': 43},\n",
    "    lgb_params = {'default_params': {'device': \"cpu\", \"boosting\": \"dart\"}}\n",
    ")\n",
    "start_time = time.time()\n",
    "oof_pred = automl.fit_predict(\n",
    "        train,\n",
    "        roles=roles,\n",
    "        verbose = 1\n",
    "    )\n",
    "end_time = time.time()"
   ]
  },
  {
   "cell_type": "code",
   "execution_count": 20,
   "metadata": {
    "tags": []
   },
   "outputs": [
    {
     "name": "stdout",
     "output_type": "stream",
     "text": [
      "spend time: 87009.34322166443\n",
      "age ca roc auc: 0.8855290554795227\n",
      "Final prediction for new objects (level 0) = \n",
      "\t 1.00000 * (10 averaged models Lvl_0_Pipe_0_Mod_0_LightGBM) \n"
     ]
    }
   ],
   "source": [
    "from sklearn.metrics import f1_score, accuracy_score, roc_auc_score\n",
    "\n",
    "print(f\"spend time: {end_time - start_time}\")\n",
    "pred_ismale = oof_pred.data[: ,0]\n",
    "pred_ismale[np.isnan(pred_ismale)] = 0.5\n",
    "print(f\"age ca roc auc: {roc_auc_score(train['is_male'], pred_ismale)}\")\n",
    "print(automl.create_model_str_desc())"
   ]
  },
  {
   "cell_type": "code",
   "execution_count": 21,
   "metadata": {
    "tags": []
   },
   "outputs": [
    {
     "data": {
      "text/html": [
       "<div>\n",
       "<style scoped>\n",
       "    .dataframe tbody tr th:only-of-type {\n",
       "        vertical-align: middle;\n",
       "    }\n",
       "\n",
       "    .dataframe tbody tr th {\n",
       "        vertical-align: top;\n",
       "    }\n",
       "\n",
       "    .dataframe thead th {\n",
       "        text-align: right;\n",
       "    }\n",
       "</style>\n",
       "<table border=\"1\" class=\"dataframe\">\n",
       "  <thead>\n",
       "    <tr style=\"text-align: right;\">\n",
       "      <th></th>\n",
       "      <th>user_id</th>\n",
       "      <th>dart_pred</th>\n",
       "    </tr>\n",
       "  </thead>\n",
       "  <tbody>\n",
       "    <tr>\n",
       "      <th>72084</th>\n",
       "      <td>6</td>\n",
       "      <td>0.104897</td>\n",
       "    </tr>\n",
       "    <tr>\n",
       "      <th>14368</th>\n",
       "      <td>7</td>\n",
       "      <td>0.949013</td>\n",
       "    </tr>\n",
       "    <tr>\n",
       "      <th>130234</th>\n",
       "      <td>9</td>\n",
       "      <td>0.096417</td>\n",
       "    </tr>\n",
       "    <tr>\n",
       "      <th>100995</th>\n",
       "      <td>10</td>\n",
       "      <td>0.020029</td>\n",
       "    </tr>\n",
       "    <tr>\n",
       "      <th>14369</th>\n",
       "      <td>11</td>\n",
       "      <td>0.921245</td>\n",
       "    </tr>\n",
       "  </tbody>\n",
       "</table>\n",
       "</div>"
      ],
      "text/plain": [
       "        user_id  dart_pred\n",
       "72084         6   0.104897\n",
       "14368         7   0.949013\n",
       "130234        9   0.096417\n",
       "100995       10   0.020029\n",
       "14369        11   0.921245"
      ]
     },
     "execution_count": 21,
     "metadata": {},
     "output_type": "execute_result"
    }
   ],
   "source": [
    "test_pred_ismale = automl.predict(test)\n",
    "sub = pd.DataFrame()\n",
    "sub['user_id'] = test.user_id\n",
    "sub['dart_pred'] = test_pred_ismale.data[: ,0]\n",
    "sub.sort_values(\"user_id\", inplace=True)\n",
    "sub.to_csv(\"test_dart_pred.csv\", index=False)\n",
    "\n",
    "sub.head()"
   ]
  },
  {
   "cell_type": "code",
   "execution_count": 22,
   "metadata": {},
   "outputs": [
    {
     "data": {
      "text/html": [
       "<div>\n",
       "<style scoped>\n",
       "    .dataframe tbody tr th:only-of-type {\n",
       "        vertical-align: middle;\n",
       "    }\n",
       "\n",
       "    .dataframe tbody tr th {\n",
       "        vertical-align: top;\n",
       "    }\n",
       "\n",
       "    .dataframe thead th {\n",
       "        text-align: right;\n",
       "    }\n",
       "</style>\n",
       "<table border=\"1\" class=\"dataframe\">\n",
       "  <thead>\n",
       "    <tr style=\"text-align: right;\">\n",
       "      <th></th>\n",
       "      <th>user_id</th>\n",
       "      <th>dart_pred</th>\n",
       "    </tr>\n",
       "  </thead>\n",
       "  <tbody>\n",
       "    <tr>\n",
       "      <th>135060</th>\n",
       "      <td>0</td>\n",
       "      <td>0.105708</td>\n",
       "    </tr>\n",
       "    <tr>\n",
       "      <th>242997</th>\n",
       "      <td>1</td>\n",
       "      <td>0.102044</td>\n",
       "    </tr>\n",
       "    <tr>\n",
       "      <th>215997</th>\n",
       "      <td>2</td>\n",
       "      <td>0.400263</td>\n",
       "    </tr>\n",
       "    <tr>\n",
       "      <th>189056</th>\n",
       "      <td>3</td>\n",
       "      <td>0.271151</td>\n",
       "    </tr>\n",
       "    <tr>\n",
       "      <th>0</th>\n",
       "      <td>4</td>\n",
       "      <td>0.057148</td>\n",
       "    </tr>\n",
       "  </tbody>\n",
       "</table>\n",
       "</div>"
      ],
      "text/plain": [
       "        user_id  dart_pred\n",
       "135060        0   0.105708\n",
       "242997        1   0.102044\n",
       "215997        2   0.400263\n",
       "189056        3   0.271151\n",
       "0             4   0.057148"
      ]
     },
     "execution_count": 22,
     "metadata": {},
     "output_type": "execute_result"
    }
   ],
   "source": [
    "sub = pd.DataFrame()\n",
    "sub['user_id'] = train.user_id\n",
    "sub['dart_pred'] = oof_pred.data[: ,0]\n",
    "sub.sort_values(\"user_id\", inplace=True)\n",
    "sub.to_csv(\"train_dart_pred.csv\", index=False)\n",
    "\n",
    "sub.head()"
   ]
  },
  {
   "cell_type": "code",
   "execution_count": null,
   "metadata": {},
   "outputs": [],
   "source": []
  }
 ],
 "metadata": {
  "kernelspec": {
   "display_name": "Python 3 (ipykernel)",
   "language": "python",
   "name": "python3"
  },
  "language_info": {
   "codemirror_mode": {
    "name": "ipython",
    "version": 3
   },
   "file_extension": ".py",
   "mimetype": "text/x-python",
   "name": "python",
   "nbconvert_exporter": "python",
   "pygments_lexer": "ipython3",
   "version": "3.8.16"
  }
 },
 "nbformat": 4,
 "nbformat_minor": 4
}
